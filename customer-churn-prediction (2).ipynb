{
 "cells": [
  {
   "cell_type": "code",
   "execution_count": 1,
   "id": "1141b32a",
   "metadata": {
    "_cell_guid": "b1076dfc-b9ad-4769-8c92-a6c4dae69d19",
    "_uuid": "8f2839f25d086af736a60e9eeb907d3b93b6e0e5",
    "execution": {
     "iopub.execute_input": "2024-09-05T10:27:37.553935Z",
     "iopub.status.busy": "2024-09-05T10:27:37.553372Z",
     "iopub.status.idle": "2024-09-05T10:27:37.964251Z",
     "shell.execute_reply": "2024-09-05T10:27:37.962909Z"
    },
    "papermill": {
     "duration": 0.423884,
     "end_time": "2024-09-05T10:27:37.966858",
     "exception": false,
     "start_time": "2024-09-05T10:27:37.542974",
     "status": "completed"
    },
    "tags": []
   },
   "outputs": [
    {
     "name": "stdout",
     "output_type": "stream",
     "text": [
      "/kaggle/input/credit-card-customer-churn-prediction/Churn_Modelling.csv\n"
     ]
    }
   ],
   "source": [
    "# This Python 3 environment comes with many helpful analytics libraries installed\n",
    "# It is defined by the kaggle/python Docker image: https://github.com/kaggle/docker-python\n",
    "# For example, here's several helpful packages to load\n",
    "\n",
    "import numpy as np # linear algebra\n",
    "import pandas as pd # data processing, CSV file I/O (e.g. pd.read_csv)\n",
    "\n",
    "# Input data files are available in the read-only \"../input/\" directory\n",
    "# For example, running this (by clicking run or pressing Shift+Enter) will list all files under the input directory\n",
    "\n",
    "import os\n",
    "for dirname, _, filenames in os.walk('/kaggle/input'):\n",
    "    for filename in filenames:\n",
    "        print(os.path.join(dirname, filename))\n",
    "\n",
    "# You can write up to 20GB to the current directory (/kaggle/working/) that gets preserved as output when you create a version using \"Save & Run All\" \n",
    "# You can also write temporary files to /kaggle/temp/, but they won't be saved outside of the current session"
   ]
  },
  {
   "cell_type": "code",
   "execution_count": 2,
   "id": "e3306f8c",
   "metadata": {
    "execution": {
     "iopub.execute_input": "2024-09-05T10:27:37.985623Z",
     "iopub.status.busy": "2024-09-05T10:27:37.984536Z",
     "iopub.status.idle": "2024-09-05T10:27:38.033020Z",
     "shell.execute_reply": "2024-09-05T10:27:38.031824Z"
    },
    "papermill": {
     "duration": 0.060543,
     "end_time": "2024-09-05T10:27:38.035816",
     "exception": false,
     "start_time": "2024-09-05T10:27:37.975273",
     "status": "completed"
    },
    "tags": []
   },
   "outputs": [],
   "source": [
    " df = pd.read_csv('/kaggle/input/credit-card-customer-churn-prediction/Churn_Modelling.csv')"
   ]
  },
  {
   "cell_type": "code",
   "execution_count": 3,
   "id": "d59275a1",
   "metadata": {
    "execution": {
     "iopub.execute_input": "2024-09-05T10:27:38.054794Z",
     "iopub.status.busy": "2024-09-05T10:27:38.054367Z",
     "iopub.status.idle": "2024-09-05T10:27:38.083039Z",
     "shell.execute_reply": "2024-09-05T10:27:38.081856Z"
    },
    "papermill": {
     "duration": 0.041673,
     "end_time": "2024-09-05T10:27:38.085684",
     "exception": false,
     "start_time": "2024-09-05T10:27:38.044011",
     "status": "completed"
    },
    "tags": []
   },
   "outputs": [
    {
     "data": {
      "text/html": [
       "<div>\n",
       "<style scoped>\n",
       "    .dataframe tbody tr th:only-of-type {\n",
       "        vertical-align: middle;\n",
       "    }\n",
       "\n",
       "    .dataframe tbody tr th {\n",
       "        vertical-align: top;\n",
       "    }\n",
       "\n",
       "    .dataframe thead th {\n",
       "        text-align: right;\n",
       "    }\n",
       "</style>\n",
       "<table border=\"1\" class=\"dataframe\">\n",
       "  <thead>\n",
       "    <tr style=\"text-align: right;\">\n",
       "      <th></th>\n",
       "      <th>RowNumber</th>\n",
       "      <th>CustomerId</th>\n",
       "      <th>Surname</th>\n",
       "      <th>CreditScore</th>\n",
       "      <th>Geography</th>\n",
       "      <th>Gender</th>\n",
       "      <th>Age</th>\n",
       "      <th>Tenure</th>\n",
       "      <th>Balance</th>\n",
       "      <th>NumOfProducts</th>\n",
       "      <th>HasCrCard</th>\n",
       "      <th>IsActiveMember</th>\n",
       "      <th>EstimatedSalary</th>\n",
       "      <th>Exited</th>\n",
       "    </tr>\n",
       "  </thead>\n",
       "  <tbody>\n",
       "    <tr>\n",
       "      <th>0</th>\n",
       "      <td>1</td>\n",
       "      <td>15634602</td>\n",
       "      <td>Hargrave</td>\n",
       "      <td>619</td>\n",
       "      <td>France</td>\n",
       "      <td>Female</td>\n",
       "      <td>42</td>\n",
       "      <td>2</td>\n",
       "      <td>0.00</td>\n",
       "      <td>1</td>\n",
       "      <td>1</td>\n",
       "      <td>1</td>\n",
       "      <td>101348.88</td>\n",
       "      <td>1</td>\n",
       "    </tr>\n",
       "    <tr>\n",
       "      <th>1</th>\n",
       "      <td>2</td>\n",
       "      <td>15647311</td>\n",
       "      <td>Hill</td>\n",
       "      <td>608</td>\n",
       "      <td>Spain</td>\n",
       "      <td>Female</td>\n",
       "      <td>41</td>\n",
       "      <td>1</td>\n",
       "      <td>83807.86</td>\n",
       "      <td>1</td>\n",
       "      <td>0</td>\n",
       "      <td>1</td>\n",
       "      <td>112542.58</td>\n",
       "      <td>0</td>\n",
       "    </tr>\n",
       "    <tr>\n",
       "      <th>2</th>\n",
       "      <td>3</td>\n",
       "      <td>15619304</td>\n",
       "      <td>Onio</td>\n",
       "      <td>502</td>\n",
       "      <td>France</td>\n",
       "      <td>Female</td>\n",
       "      <td>42</td>\n",
       "      <td>8</td>\n",
       "      <td>159660.80</td>\n",
       "      <td>3</td>\n",
       "      <td>1</td>\n",
       "      <td>0</td>\n",
       "      <td>113931.57</td>\n",
       "      <td>1</td>\n",
       "    </tr>\n",
       "    <tr>\n",
       "      <th>3</th>\n",
       "      <td>4</td>\n",
       "      <td>15701354</td>\n",
       "      <td>Boni</td>\n",
       "      <td>699</td>\n",
       "      <td>France</td>\n",
       "      <td>Female</td>\n",
       "      <td>39</td>\n",
       "      <td>1</td>\n",
       "      <td>0.00</td>\n",
       "      <td>2</td>\n",
       "      <td>0</td>\n",
       "      <td>0</td>\n",
       "      <td>93826.63</td>\n",
       "      <td>0</td>\n",
       "    </tr>\n",
       "    <tr>\n",
       "      <th>4</th>\n",
       "      <td>5</td>\n",
       "      <td>15737888</td>\n",
       "      <td>Mitchell</td>\n",
       "      <td>850</td>\n",
       "      <td>Spain</td>\n",
       "      <td>Female</td>\n",
       "      <td>43</td>\n",
       "      <td>2</td>\n",
       "      <td>125510.82</td>\n",
       "      <td>1</td>\n",
       "      <td>1</td>\n",
       "      <td>1</td>\n",
       "      <td>79084.10</td>\n",
       "      <td>0</td>\n",
       "    </tr>\n",
       "  </tbody>\n",
       "</table>\n",
       "</div>"
      ],
      "text/plain": [
       "   RowNumber  CustomerId   Surname  CreditScore Geography  Gender  Age  \\\n",
       "0          1    15634602  Hargrave          619    France  Female   42   \n",
       "1          2    15647311      Hill          608     Spain  Female   41   \n",
       "2          3    15619304      Onio          502    France  Female   42   \n",
       "3          4    15701354      Boni          699    France  Female   39   \n",
       "4          5    15737888  Mitchell          850     Spain  Female   43   \n",
       "\n",
       "   Tenure    Balance  NumOfProducts  HasCrCard  IsActiveMember  \\\n",
       "0       2       0.00              1          1               1   \n",
       "1       1   83807.86              1          0               1   \n",
       "2       8  159660.80              3          1               0   \n",
       "3       1       0.00              2          0               0   \n",
       "4       2  125510.82              1          1               1   \n",
       "\n",
       "   EstimatedSalary  Exited  \n",
       "0        101348.88       1  \n",
       "1        112542.58       0  \n",
       "2        113931.57       1  \n",
       "3         93826.63       0  \n",
       "4         79084.10       0  "
      ]
     },
     "execution_count": 3,
     "metadata": {},
     "output_type": "execute_result"
    }
   ],
   "source": [
    "df.head()"
   ]
  },
  {
   "cell_type": "code",
   "execution_count": 4,
   "id": "9f3afb44",
   "metadata": {
    "execution": {
     "iopub.execute_input": "2024-09-05T10:27:38.104564Z",
     "iopub.status.busy": "2024-09-05T10:27:38.104103Z",
     "iopub.status.idle": "2024-09-05T10:27:38.110353Z",
     "shell.execute_reply": "2024-09-05T10:27:38.109104Z"
    },
    "papermill": {
     "duration": 0.018574,
     "end_time": "2024-09-05T10:27:38.112768",
     "exception": false,
     "start_time": "2024-09-05T10:27:38.094194",
     "status": "completed"
    },
    "tags": []
   },
   "outputs": [
    {
     "name": "stdout",
     "output_type": "stream",
     "text": [
      "(10000, 14)\n"
     ]
    }
   ],
   "source": [
    "print(df.shape)"
   ]
  },
  {
   "cell_type": "code",
   "execution_count": 5,
   "id": "3300caa0",
   "metadata": {
    "execution": {
     "iopub.execute_input": "2024-09-05T10:27:38.134674Z",
     "iopub.status.busy": "2024-09-05T10:27:38.134269Z",
     "iopub.status.idle": "2024-09-05T10:27:38.164247Z",
     "shell.execute_reply": "2024-09-05T10:27:38.162989Z"
    },
    "papermill": {
     "duration": 0.045219,
     "end_time": "2024-09-05T10:27:38.166750",
     "exception": false,
     "start_time": "2024-09-05T10:27:38.121531",
     "status": "completed"
    },
    "tags": []
   },
   "outputs": [
    {
     "name": "stdout",
     "output_type": "stream",
     "text": [
      "<class 'pandas.core.frame.DataFrame'>\n",
      "RangeIndex: 10000 entries, 0 to 9999\n",
      "Data columns (total 14 columns):\n",
      " #   Column           Non-Null Count  Dtype  \n",
      "---  ------           --------------  -----  \n",
      " 0   RowNumber        10000 non-null  int64  \n",
      " 1   CustomerId       10000 non-null  int64  \n",
      " 2   Surname          10000 non-null  object \n",
      " 3   CreditScore      10000 non-null  int64  \n",
      " 4   Geography        10000 non-null  object \n",
      " 5   Gender           10000 non-null  object \n",
      " 6   Age              10000 non-null  int64  \n",
      " 7   Tenure           10000 non-null  int64  \n",
      " 8   Balance          10000 non-null  float64\n",
      " 9   NumOfProducts    10000 non-null  int64  \n",
      " 10  HasCrCard        10000 non-null  int64  \n",
      " 11  IsActiveMember   10000 non-null  int64  \n",
      " 12  EstimatedSalary  10000 non-null  float64\n",
      " 13  Exited           10000 non-null  int64  \n",
      "dtypes: float64(2), int64(9), object(3)\n",
      "memory usage: 1.1+ MB\n"
     ]
    }
   ],
   "source": [
    "df.info()"
   ]
  },
  {
   "cell_type": "code",
   "execution_count": 6,
   "id": "d172a4bf",
   "metadata": {
    "execution": {
     "iopub.execute_input": "2024-09-05T10:27:38.185866Z",
     "iopub.status.busy": "2024-09-05T10:27:38.185446Z",
     "iopub.status.idle": "2024-09-05T10:27:38.201049Z",
     "shell.execute_reply": "2024-09-05T10:27:38.199856Z"
    },
    "papermill": {
     "duration": 0.028541,
     "end_time": "2024-09-05T10:27:38.204127",
     "exception": false,
     "start_time": "2024-09-05T10:27:38.175586",
     "status": "completed"
    },
    "tags": []
   },
   "outputs": [
    {
     "data": {
      "text/plain": [
       "0"
      ]
     },
     "execution_count": 6,
     "metadata": {},
     "output_type": "execute_result"
    }
   ],
   "source": [
    "df.duplicated().sum()"
   ]
  },
  {
   "cell_type": "code",
   "execution_count": 7,
   "id": "fd3022e9",
   "metadata": {
    "execution": {
     "iopub.execute_input": "2024-09-05T10:27:38.225244Z",
     "iopub.status.busy": "2024-09-05T10:27:38.224828Z",
     "iopub.status.idle": "2024-09-05T10:27:38.236262Z",
     "shell.execute_reply": "2024-09-05T10:27:38.235156Z"
    },
    "papermill": {
     "duration": 0.023697,
     "end_time": "2024-09-05T10:27:38.238555",
     "exception": false,
     "start_time": "2024-09-05T10:27:38.214858",
     "status": "completed"
    },
    "tags": []
   },
   "outputs": [
    {
     "data": {
      "text/plain": [
       "Exited\n",
       "0    7963\n",
       "1    2037\n",
       "Name: count, dtype: int64"
      ]
     },
     "execution_count": 7,
     "metadata": {},
     "output_type": "execute_result"
    }
   ],
   "source": [
    "df['Exited'].value_counts()"
   ]
  },
  {
   "cell_type": "code",
   "execution_count": 8,
   "id": "1c99d542",
   "metadata": {
    "execution": {
     "iopub.execute_input": "2024-09-05T10:27:38.257977Z",
     "iopub.status.busy": "2024-09-05T10:27:38.257578Z",
     "iopub.status.idle": "2024-09-05T10:27:38.267125Z",
     "shell.execute_reply": "2024-09-05T10:27:38.266049Z"
    },
    "papermill": {
     "duration": 0.021902,
     "end_time": "2024-09-05T10:27:38.269411",
     "exception": false,
     "start_time": "2024-09-05T10:27:38.247509",
     "status": "completed"
    },
    "tags": []
   },
   "outputs": [
    {
     "data": {
      "text/plain": [
       "Geography\n",
       "France     5014\n",
       "Germany    2509\n",
       "Spain      2477\n",
       "Name: count, dtype: int64"
      ]
     },
     "execution_count": 8,
     "metadata": {},
     "output_type": "execute_result"
    }
   ],
   "source": [
    "df['Geography'].value_counts()"
   ]
  },
  {
   "cell_type": "code",
   "execution_count": 9,
   "id": "bac79caf",
   "metadata": {
    "execution": {
     "iopub.execute_input": "2024-09-05T10:27:38.288792Z",
     "iopub.status.busy": "2024-09-05T10:27:38.288387Z",
     "iopub.status.idle": "2024-09-05T10:27:38.298030Z",
     "shell.execute_reply": "2024-09-05T10:27:38.296919Z"
    },
    "papermill": {
     "duration": 0.022115,
     "end_time": "2024-09-05T10:27:38.300407",
     "exception": false,
     "start_time": "2024-09-05T10:27:38.278292",
     "status": "completed"
    },
    "tags": []
   },
   "outputs": [
    {
     "data": {
      "text/plain": [
       "Gender\n",
       "Male      5457\n",
       "Female    4543\n",
       "Name: count, dtype: int64"
      ]
     },
     "execution_count": 9,
     "metadata": {},
     "output_type": "execute_result"
    }
   ],
   "source": [
    "df['Gender'].value_counts()"
   ]
  },
  {
   "cell_type": "code",
   "execution_count": 10,
   "id": "cd9932b8",
   "metadata": {
    "execution": {
     "iopub.execute_input": "2024-09-05T10:27:38.320684Z",
     "iopub.status.busy": "2024-09-05T10:27:38.320260Z",
     "iopub.status.idle": "2024-09-05T10:27:38.329624Z",
     "shell.execute_reply": "2024-09-05T10:27:38.328361Z"
    },
    "papermill": {
     "duration": 0.021676,
     "end_time": "2024-09-05T10:27:38.331809",
     "exception": false,
     "start_time": "2024-09-05T10:27:38.310133",
     "status": "completed"
    },
    "tags": []
   },
   "outputs": [],
   "source": [
    "df.drop(columns=['RowNumber','CustomerId','Surname'],inplace=True)"
   ]
  },
  {
   "cell_type": "code",
   "execution_count": 11,
   "id": "b26857f2",
   "metadata": {
    "execution": {
     "iopub.execute_input": "2024-09-05T10:27:38.351877Z",
     "iopub.status.busy": "2024-09-05T10:27:38.351456Z",
     "iopub.status.idle": "2024-09-05T10:27:38.366449Z",
     "shell.execute_reply": "2024-09-05T10:27:38.365357Z"
    },
    "papermill": {
     "duration": 0.027357,
     "end_time": "2024-09-05T10:27:38.368550",
     "exception": false,
     "start_time": "2024-09-05T10:27:38.341193",
     "status": "completed"
    },
    "tags": []
   },
   "outputs": [
    {
     "data": {
      "text/html": [
       "<div>\n",
       "<style scoped>\n",
       "    .dataframe tbody tr th:only-of-type {\n",
       "        vertical-align: middle;\n",
       "    }\n",
       "\n",
       "    .dataframe tbody tr th {\n",
       "        vertical-align: top;\n",
       "    }\n",
       "\n",
       "    .dataframe thead th {\n",
       "        text-align: right;\n",
       "    }\n",
       "</style>\n",
       "<table border=\"1\" class=\"dataframe\">\n",
       "  <thead>\n",
       "    <tr style=\"text-align: right;\">\n",
       "      <th></th>\n",
       "      <th>CreditScore</th>\n",
       "      <th>Geography</th>\n",
       "      <th>Gender</th>\n",
       "      <th>Age</th>\n",
       "      <th>Tenure</th>\n",
       "      <th>Balance</th>\n",
       "      <th>NumOfProducts</th>\n",
       "      <th>HasCrCard</th>\n",
       "      <th>IsActiveMember</th>\n",
       "      <th>EstimatedSalary</th>\n",
       "      <th>Exited</th>\n",
       "    </tr>\n",
       "  </thead>\n",
       "  <tbody>\n",
       "    <tr>\n",
       "      <th>0</th>\n",
       "      <td>619</td>\n",
       "      <td>France</td>\n",
       "      <td>Female</td>\n",
       "      <td>42</td>\n",
       "      <td>2</td>\n",
       "      <td>0.00</td>\n",
       "      <td>1</td>\n",
       "      <td>1</td>\n",
       "      <td>1</td>\n",
       "      <td>101348.88</td>\n",
       "      <td>1</td>\n",
       "    </tr>\n",
       "    <tr>\n",
       "      <th>1</th>\n",
       "      <td>608</td>\n",
       "      <td>Spain</td>\n",
       "      <td>Female</td>\n",
       "      <td>41</td>\n",
       "      <td>1</td>\n",
       "      <td>83807.86</td>\n",
       "      <td>1</td>\n",
       "      <td>0</td>\n",
       "      <td>1</td>\n",
       "      <td>112542.58</td>\n",
       "      <td>0</td>\n",
       "    </tr>\n",
       "    <tr>\n",
       "      <th>2</th>\n",
       "      <td>502</td>\n",
       "      <td>France</td>\n",
       "      <td>Female</td>\n",
       "      <td>42</td>\n",
       "      <td>8</td>\n",
       "      <td>159660.80</td>\n",
       "      <td>3</td>\n",
       "      <td>1</td>\n",
       "      <td>0</td>\n",
       "      <td>113931.57</td>\n",
       "      <td>1</td>\n",
       "    </tr>\n",
       "    <tr>\n",
       "      <th>3</th>\n",
       "      <td>699</td>\n",
       "      <td>France</td>\n",
       "      <td>Female</td>\n",
       "      <td>39</td>\n",
       "      <td>1</td>\n",
       "      <td>0.00</td>\n",
       "      <td>2</td>\n",
       "      <td>0</td>\n",
       "      <td>0</td>\n",
       "      <td>93826.63</td>\n",
       "      <td>0</td>\n",
       "    </tr>\n",
       "    <tr>\n",
       "      <th>4</th>\n",
       "      <td>850</td>\n",
       "      <td>Spain</td>\n",
       "      <td>Female</td>\n",
       "      <td>43</td>\n",
       "      <td>2</td>\n",
       "      <td>125510.82</td>\n",
       "      <td>1</td>\n",
       "      <td>1</td>\n",
       "      <td>1</td>\n",
       "      <td>79084.10</td>\n",
       "      <td>0</td>\n",
       "    </tr>\n",
       "  </tbody>\n",
       "</table>\n",
       "</div>"
      ],
      "text/plain": [
       "   CreditScore Geography  Gender  Age  Tenure    Balance  NumOfProducts  \\\n",
       "0          619    France  Female   42       2       0.00              1   \n",
       "1          608     Spain  Female   41       1   83807.86              1   \n",
       "2          502    France  Female   42       8  159660.80              3   \n",
       "3          699    France  Female   39       1       0.00              2   \n",
       "4          850     Spain  Female   43       2  125510.82              1   \n",
       "\n",
       "   HasCrCard  IsActiveMember  EstimatedSalary  Exited  \n",
       "0          1               1        101348.88       1  \n",
       "1          0               1        112542.58       0  \n",
       "2          1               0        113931.57       1  \n",
       "3          0               0         93826.63       0  \n",
       "4          1               1         79084.10       0  "
      ]
     },
     "execution_count": 11,
     "metadata": {},
     "output_type": "execute_result"
    }
   ],
   "source": [
    "df.head()"
   ]
  },
  {
   "cell_type": "code",
   "execution_count": 12,
   "id": "10b01a04",
   "metadata": {
    "execution": {
     "iopub.execute_input": "2024-09-05T10:27:38.388775Z",
     "iopub.status.busy": "2024-09-05T10:27:38.388374Z",
     "iopub.status.idle": "2024-09-05T10:27:38.400552Z",
     "shell.execute_reply": "2024-09-05T10:27:38.399405Z"
    },
    "papermill": {
     "duration": 0.025274,
     "end_time": "2024-09-05T10:27:38.403128",
     "exception": false,
     "start_time": "2024-09-05T10:27:38.377854",
     "status": "completed"
    },
    "tags": []
   },
   "outputs": [],
   "source": [
    "df=pd.get_dummies(df,columns=['Geography','Gender'],drop_first=True,dtype=int)"
   ]
  },
  {
   "cell_type": "code",
   "execution_count": 13,
   "id": "9de20318",
   "metadata": {
    "execution": {
     "iopub.execute_input": "2024-09-05T10:27:38.423234Z",
     "iopub.status.busy": "2024-09-05T10:27:38.422776Z",
     "iopub.status.idle": "2024-09-05T10:27:38.441518Z",
     "shell.execute_reply": "2024-09-05T10:27:38.440471Z"
    },
    "papermill": {
     "duration": 0.03141,
     "end_time": "2024-09-05T10:27:38.443754",
     "exception": false,
     "start_time": "2024-09-05T10:27:38.412344",
     "status": "completed"
    },
    "tags": []
   },
   "outputs": [
    {
     "data": {
      "text/html": [
       "<div>\n",
       "<style scoped>\n",
       "    .dataframe tbody tr th:only-of-type {\n",
       "        vertical-align: middle;\n",
       "    }\n",
       "\n",
       "    .dataframe tbody tr th {\n",
       "        vertical-align: top;\n",
       "    }\n",
       "\n",
       "    .dataframe thead th {\n",
       "        text-align: right;\n",
       "    }\n",
       "</style>\n",
       "<table border=\"1\" class=\"dataframe\">\n",
       "  <thead>\n",
       "    <tr style=\"text-align: right;\">\n",
       "      <th></th>\n",
       "      <th>CreditScore</th>\n",
       "      <th>Age</th>\n",
       "      <th>Tenure</th>\n",
       "      <th>Balance</th>\n",
       "      <th>NumOfProducts</th>\n",
       "      <th>HasCrCard</th>\n",
       "      <th>IsActiveMember</th>\n",
       "      <th>EstimatedSalary</th>\n",
       "      <th>Exited</th>\n",
       "      <th>Geography_Germany</th>\n",
       "      <th>Geography_Spain</th>\n",
       "      <th>Gender_Male</th>\n",
       "    </tr>\n",
       "  </thead>\n",
       "  <tbody>\n",
       "    <tr>\n",
       "      <th>0</th>\n",
       "      <td>619</td>\n",
       "      <td>42</td>\n",
       "      <td>2</td>\n",
       "      <td>0.00</td>\n",
       "      <td>1</td>\n",
       "      <td>1</td>\n",
       "      <td>1</td>\n",
       "      <td>101348.88</td>\n",
       "      <td>1</td>\n",
       "      <td>0</td>\n",
       "      <td>0</td>\n",
       "      <td>0</td>\n",
       "    </tr>\n",
       "    <tr>\n",
       "      <th>1</th>\n",
       "      <td>608</td>\n",
       "      <td>41</td>\n",
       "      <td>1</td>\n",
       "      <td>83807.86</td>\n",
       "      <td>1</td>\n",
       "      <td>0</td>\n",
       "      <td>1</td>\n",
       "      <td>112542.58</td>\n",
       "      <td>0</td>\n",
       "      <td>0</td>\n",
       "      <td>1</td>\n",
       "      <td>0</td>\n",
       "    </tr>\n",
       "    <tr>\n",
       "      <th>2</th>\n",
       "      <td>502</td>\n",
       "      <td>42</td>\n",
       "      <td>8</td>\n",
       "      <td>159660.80</td>\n",
       "      <td>3</td>\n",
       "      <td>1</td>\n",
       "      <td>0</td>\n",
       "      <td>113931.57</td>\n",
       "      <td>1</td>\n",
       "      <td>0</td>\n",
       "      <td>0</td>\n",
       "      <td>0</td>\n",
       "    </tr>\n",
       "    <tr>\n",
       "      <th>3</th>\n",
       "      <td>699</td>\n",
       "      <td>39</td>\n",
       "      <td>1</td>\n",
       "      <td>0.00</td>\n",
       "      <td>2</td>\n",
       "      <td>0</td>\n",
       "      <td>0</td>\n",
       "      <td>93826.63</td>\n",
       "      <td>0</td>\n",
       "      <td>0</td>\n",
       "      <td>0</td>\n",
       "      <td>0</td>\n",
       "    </tr>\n",
       "    <tr>\n",
       "      <th>4</th>\n",
       "      <td>850</td>\n",
       "      <td>43</td>\n",
       "      <td>2</td>\n",
       "      <td>125510.82</td>\n",
       "      <td>1</td>\n",
       "      <td>1</td>\n",
       "      <td>1</td>\n",
       "      <td>79084.10</td>\n",
       "      <td>0</td>\n",
       "      <td>0</td>\n",
       "      <td>1</td>\n",
       "      <td>0</td>\n",
       "    </tr>\n",
       "    <tr>\n",
       "      <th>...</th>\n",
       "      <td>...</td>\n",
       "      <td>...</td>\n",
       "      <td>...</td>\n",
       "      <td>...</td>\n",
       "      <td>...</td>\n",
       "      <td>...</td>\n",
       "      <td>...</td>\n",
       "      <td>...</td>\n",
       "      <td>...</td>\n",
       "      <td>...</td>\n",
       "      <td>...</td>\n",
       "      <td>...</td>\n",
       "    </tr>\n",
       "    <tr>\n",
       "      <th>9995</th>\n",
       "      <td>771</td>\n",
       "      <td>39</td>\n",
       "      <td>5</td>\n",
       "      <td>0.00</td>\n",
       "      <td>2</td>\n",
       "      <td>1</td>\n",
       "      <td>0</td>\n",
       "      <td>96270.64</td>\n",
       "      <td>0</td>\n",
       "      <td>0</td>\n",
       "      <td>0</td>\n",
       "      <td>1</td>\n",
       "    </tr>\n",
       "    <tr>\n",
       "      <th>9996</th>\n",
       "      <td>516</td>\n",
       "      <td>35</td>\n",
       "      <td>10</td>\n",
       "      <td>57369.61</td>\n",
       "      <td>1</td>\n",
       "      <td>1</td>\n",
       "      <td>1</td>\n",
       "      <td>101699.77</td>\n",
       "      <td>0</td>\n",
       "      <td>0</td>\n",
       "      <td>0</td>\n",
       "      <td>1</td>\n",
       "    </tr>\n",
       "    <tr>\n",
       "      <th>9997</th>\n",
       "      <td>709</td>\n",
       "      <td>36</td>\n",
       "      <td>7</td>\n",
       "      <td>0.00</td>\n",
       "      <td>1</td>\n",
       "      <td>0</td>\n",
       "      <td>1</td>\n",
       "      <td>42085.58</td>\n",
       "      <td>1</td>\n",
       "      <td>0</td>\n",
       "      <td>0</td>\n",
       "      <td>0</td>\n",
       "    </tr>\n",
       "    <tr>\n",
       "      <th>9998</th>\n",
       "      <td>772</td>\n",
       "      <td>42</td>\n",
       "      <td>3</td>\n",
       "      <td>75075.31</td>\n",
       "      <td>2</td>\n",
       "      <td>1</td>\n",
       "      <td>0</td>\n",
       "      <td>92888.52</td>\n",
       "      <td>1</td>\n",
       "      <td>1</td>\n",
       "      <td>0</td>\n",
       "      <td>1</td>\n",
       "    </tr>\n",
       "    <tr>\n",
       "      <th>9999</th>\n",
       "      <td>792</td>\n",
       "      <td>28</td>\n",
       "      <td>4</td>\n",
       "      <td>130142.79</td>\n",
       "      <td>1</td>\n",
       "      <td>1</td>\n",
       "      <td>0</td>\n",
       "      <td>38190.78</td>\n",
       "      <td>0</td>\n",
       "      <td>0</td>\n",
       "      <td>0</td>\n",
       "      <td>0</td>\n",
       "    </tr>\n",
       "  </tbody>\n",
       "</table>\n",
       "<p>10000 rows × 12 columns</p>\n",
       "</div>"
      ],
      "text/plain": [
       "      CreditScore  Age  Tenure    Balance  NumOfProducts  HasCrCard  \\\n",
       "0             619   42       2       0.00              1          1   \n",
       "1             608   41       1   83807.86              1          0   \n",
       "2             502   42       8  159660.80              3          1   \n",
       "3             699   39       1       0.00              2          0   \n",
       "4             850   43       2  125510.82              1          1   \n",
       "...           ...  ...     ...        ...            ...        ...   \n",
       "9995          771   39       5       0.00              2          1   \n",
       "9996          516   35      10   57369.61              1          1   \n",
       "9997          709   36       7       0.00              1          0   \n",
       "9998          772   42       3   75075.31              2          1   \n",
       "9999          792   28       4  130142.79              1          1   \n",
       "\n",
       "      IsActiveMember  EstimatedSalary  Exited  Geography_Germany  \\\n",
       "0                  1        101348.88       1                  0   \n",
       "1                  1        112542.58       0                  0   \n",
       "2                  0        113931.57       1                  0   \n",
       "3                  0         93826.63       0                  0   \n",
       "4                  1         79084.10       0                  0   \n",
       "...              ...              ...     ...                ...   \n",
       "9995               0         96270.64       0                  0   \n",
       "9996               1        101699.77       0                  0   \n",
       "9997               1         42085.58       1                  0   \n",
       "9998               0         92888.52       1                  1   \n",
       "9999               0         38190.78       0                  0   \n",
       "\n",
       "      Geography_Spain  Gender_Male  \n",
       "0                   0            0  \n",
       "1                   1            0  \n",
       "2                   0            0  \n",
       "3                   0            0  \n",
       "4                   1            0  \n",
       "...               ...          ...  \n",
       "9995                0            1  \n",
       "9996                0            1  \n",
       "9997                0            0  \n",
       "9998                0            1  \n",
       "9999                0            0  \n",
       "\n",
       "[10000 rows x 12 columns]"
      ]
     },
     "execution_count": 13,
     "metadata": {},
     "output_type": "execute_result"
    }
   ],
   "source": [
    "df"
   ]
  },
  {
   "cell_type": "code",
   "execution_count": 14,
   "id": "9f7153ca",
   "metadata": {
    "execution": {
     "iopub.execute_input": "2024-09-05T10:27:38.465091Z",
     "iopub.status.busy": "2024-09-05T10:27:38.464295Z",
     "iopub.status.idle": "2024-09-05T10:27:39.770760Z",
     "shell.execute_reply": "2024-09-05T10:27:39.769716Z"
    },
    "papermill": {
     "duration": 1.319992,
     "end_time": "2024-09-05T10:27:39.773441",
     "exception": false,
     "start_time": "2024-09-05T10:27:38.453449",
     "status": "completed"
    },
    "tags": []
   },
   "outputs": [],
   "source": [
    "X = df.drop(columns=['Exited'])\n",
    "y = df['Exited']\n",
    "from sklearn.model_selection import train_test_split\n",
    "X_train,X_test,y_train,y_test = train_test_split(X,y,test_size=0.2,random_state=1)"
   ]
  },
  {
   "cell_type": "code",
   "execution_count": 15,
   "id": "d9a18563",
   "metadata": {
    "execution": {
     "iopub.execute_input": "2024-09-05T10:27:39.794599Z",
     "iopub.status.busy": "2024-09-05T10:27:39.794006Z",
     "iopub.status.idle": "2024-09-05T10:27:39.812323Z",
     "shell.execute_reply": "2024-09-05T10:27:39.811223Z"
    },
    "papermill": {
     "duration": 0.031481,
     "end_time": "2024-09-05T10:27:39.814617",
     "exception": false,
     "start_time": "2024-09-05T10:27:39.783136",
     "status": "completed"
    },
    "tags": []
   },
   "outputs": [
    {
     "data": {
      "text/html": [
       "<div>\n",
       "<style scoped>\n",
       "    .dataframe tbody tr th:only-of-type {\n",
       "        vertical-align: middle;\n",
       "    }\n",
       "\n",
       "    .dataframe tbody tr th {\n",
       "        vertical-align: top;\n",
       "    }\n",
       "\n",
       "    .dataframe thead th {\n",
       "        text-align: right;\n",
       "    }\n",
       "</style>\n",
       "<table border=\"1\" class=\"dataframe\">\n",
       "  <thead>\n",
       "    <tr style=\"text-align: right;\">\n",
       "      <th></th>\n",
       "      <th>CreditScore</th>\n",
       "      <th>Age</th>\n",
       "      <th>Tenure</th>\n",
       "      <th>Balance</th>\n",
       "      <th>NumOfProducts</th>\n",
       "      <th>HasCrCard</th>\n",
       "      <th>IsActiveMember</th>\n",
       "      <th>EstimatedSalary</th>\n",
       "      <th>Geography_Germany</th>\n",
       "      <th>Geography_Spain</th>\n",
       "      <th>Gender_Male</th>\n",
       "    </tr>\n",
       "  </thead>\n",
       "  <tbody>\n",
       "    <tr>\n",
       "      <th>0</th>\n",
       "      <td>619</td>\n",
       "      <td>42</td>\n",
       "      <td>2</td>\n",
       "      <td>0.00</td>\n",
       "      <td>1</td>\n",
       "      <td>1</td>\n",
       "      <td>1</td>\n",
       "      <td>101348.88</td>\n",
       "      <td>0</td>\n",
       "      <td>0</td>\n",
       "      <td>0</td>\n",
       "    </tr>\n",
       "    <tr>\n",
       "      <th>1</th>\n",
       "      <td>608</td>\n",
       "      <td>41</td>\n",
       "      <td>1</td>\n",
       "      <td>83807.86</td>\n",
       "      <td>1</td>\n",
       "      <td>0</td>\n",
       "      <td>1</td>\n",
       "      <td>112542.58</td>\n",
       "      <td>0</td>\n",
       "      <td>1</td>\n",
       "      <td>0</td>\n",
       "    </tr>\n",
       "    <tr>\n",
       "      <th>2</th>\n",
       "      <td>502</td>\n",
       "      <td>42</td>\n",
       "      <td>8</td>\n",
       "      <td>159660.80</td>\n",
       "      <td>3</td>\n",
       "      <td>1</td>\n",
       "      <td>0</td>\n",
       "      <td>113931.57</td>\n",
       "      <td>0</td>\n",
       "      <td>0</td>\n",
       "      <td>0</td>\n",
       "    </tr>\n",
       "    <tr>\n",
       "      <th>3</th>\n",
       "      <td>699</td>\n",
       "      <td>39</td>\n",
       "      <td>1</td>\n",
       "      <td>0.00</td>\n",
       "      <td>2</td>\n",
       "      <td>0</td>\n",
       "      <td>0</td>\n",
       "      <td>93826.63</td>\n",
       "      <td>0</td>\n",
       "      <td>0</td>\n",
       "      <td>0</td>\n",
       "    </tr>\n",
       "    <tr>\n",
       "      <th>4</th>\n",
       "      <td>850</td>\n",
       "      <td>43</td>\n",
       "      <td>2</td>\n",
       "      <td>125510.82</td>\n",
       "      <td>1</td>\n",
       "      <td>1</td>\n",
       "      <td>1</td>\n",
       "      <td>79084.10</td>\n",
       "      <td>0</td>\n",
       "      <td>1</td>\n",
       "      <td>0</td>\n",
       "    </tr>\n",
       "    <tr>\n",
       "      <th>...</th>\n",
       "      <td>...</td>\n",
       "      <td>...</td>\n",
       "      <td>...</td>\n",
       "      <td>...</td>\n",
       "      <td>...</td>\n",
       "      <td>...</td>\n",
       "      <td>...</td>\n",
       "      <td>...</td>\n",
       "      <td>...</td>\n",
       "      <td>...</td>\n",
       "      <td>...</td>\n",
       "    </tr>\n",
       "    <tr>\n",
       "      <th>9995</th>\n",
       "      <td>771</td>\n",
       "      <td>39</td>\n",
       "      <td>5</td>\n",
       "      <td>0.00</td>\n",
       "      <td>2</td>\n",
       "      <td>1</td>\n",
       "      <td>0</td>\n",
       "      <td>96270.64</td>\n",
       "      <td>0</td>\n",
       "      <td>0</td>\n",
       "      <td>1</td>\n",
       "    </tr>\n",
       "    <tr>\n",
       "      <th>9996</th>\n",
       "      <td>516</td>\n",
       "      <td>35</td>\n",
       "      <td>10</td>\n",
       "      <td>57369.61</td>\n",
       "      <td>1</td>\n",
       "      <td>1</td>\n",
       "      <td>1</td>\n",
       "      <td>101699.77</td>\n",
       "      <td>0</td>\n",
       "      <td>0</td>\n",
       "      <td>1</td>\n",
       "    </tr>\n",
       "    <tr>\n",
       "      <th>9997</th>\n",
       "      <td>709</td>\n",
       "      <td>36</td>\n",
       "      <td>7</td>\n",
       "      <td>0.00</td>\n",
       "      <td>1</td>\n",
       "      <td>0</td>\n",
       "      <td>1</td>\n",
       "      <td>42085.58</td>\n",
       "      <td>0</td>\n",
       "      <td>0</td>\n",
       "      <td>0</td>\n",
       "    </tr>\n",
       "    <tr>\n",
       "      <th>9998</th>\n",
       "      <td>772</td>\n",
       "      <td>42</td>\n",
       "      <td>3</td>\n",
       "      <td>75075.31</td>\n",
       "      <td>2</td>\n",
       "      <td>1</td>\n",
       "      <td>0</td>\n",
       "      <td>92888.52</td>\n",
       "      <td>1</td>\n",
       "      <td>0</td>\n",
       "      <td>1</td>\n",
       "    </tr>\n",
       "    <tr>\n",
       "      <th>9999</th>\n",
       "      <td>792</td>\n",
       "      <td>28</td>\n",
       "      <td>4</td>\n",
       "      <td>130142.79</td>\n",
       "      <td>1</td>\n",
       "      <td>1</td>\n",
       "      <td>0</td>\n",
       "      <td>38190.78</td>\n",
       "      <td>0</td>\n",
       "      <td>0</td>\n",
       "      <td>0</td>\n",
       "    </tr>\n",
       "  </tbody>\n",
       "</table>\n",
       "<p>10000 rows × 11 columns</p>\n",
       "</div>"
      ],
      "text/plain": [
       "      CreditScore  Age  Tenure    Balance  NumOfProducts  HasCrCard  \\\n",
       "0             619   42       2       0.00              1          1   \n",
       "1             608   41       1   83807.86              1          0   \n",
       "2             502   42       8  159660.80              3          1   \n",
       "3             699   39       1       0.00              2          0   \n",
       "4             850   43       2  125510.82              1          1   \n",
       "...           ...  ...     ...        ...            ...        ...   \n",
       "9995          771   39       5       0.00              2          1   \n",
       "9996          516   35      10   57369.61              1          1   \n",
       "9997          709   36       7       0.00              1          0   \n",
       "9998          772   42       3   75075.31              2          1   \n",
       "9999          792   28       4  130142.79              1          1   \n",
       "\n",
       "      IsActiveMember  EstimatedSalary  Geography_Germany  Geography_Spain  \\\n",
       "0                  1        101348.88                  0                0   \n",
       "1                  1        112542.58                  0                1   \n",
       "2                  0        113931.57                  0                0   \n",
       "3                  0         93826.63                  0                0   \n",
       "4                  1         79084.10                  0                1   \n",
       "...              ...              ...                ...              ...   \n",
       "9995               0         96270.64                  0                0   \n",
       "9996               1        101699.77                  0                0   \n",
       "9997               1         42085.58                  0                0   \n",
       "9998               0         92888.52                  1                0   \n",
       "9999               0         38190.78                  0                0   \n",
       "\n",
       "      Gender_Male  \n",
       "0               0  \n",
       "1               0  \n",
       "2               0  \n",
       "3               0  \n",
       "4               0  \n",
       "...           ...  \n",
       "9995            1  \n",
       "9996            1  \n",
       "9997            0  \n",
       "9998            1  \n",
       "9999            0  \n",
       "\n",
       "[10000 rows x 11 columns]"
      ]
     },
     "execution_count": 15,
     "metadata": {},
     "output_type": "execute_result"
    }
   ],
   "source": [
    "X"
   ]
  },
  {
   "cell_type": "code",
   "execution_count": 16,
   "id": "fb391522",
   "metadata": {
    "execution": {
     "iopub.execute_input": "2024-09-05T10:27:39.836698Z",
     "iopub.status.busy": "2024-09-05T10:27:39.835729Z",
     "iopub.status.idle": "2024-09-05T10:27:39.844540Z",
     "shell.execute_reply": "2024-09-05T10:27:39.843461Z"
    },
    "papermill": {
     "duration": 0.022122,
     "end_time": "2024-09-05T10:27:39.846691",
     "exception": false,
     "start_time": "2024-09-05T10:27:39.824569",
     "status": "completed"
    },
    "tags": []
   },
   "outputs": [
    {
     "data": {
      "text/plain": [
       "0       1\n",
       "1       0\n",
       "2       1\n",
       "3       0\n",
       "4       0\n",
       "       ..\n",
       "9995    0\n",
       "9996    0\n",
       "9997    1\n",
       "9998    1\n",
       "9999    0\n",
       "Name: Exited, Length: 10000, dtype: int64"
      ]
     },
     "execution_count": 16,
     "metadata": {},
     "output_type": "execute_result"
    }
   ],
   "source": [
    "y"
   ]
  },
  {
   "cell_type": "code",
   "execution_count": 17,
   "id": "6f8680fb",
   "metadata": {
    "execution": {
     "iopub.execute_input": "2024-09-05T10:27:39.868318Z",
     "iopub.status.busy": "2024-09-05T10:27:39.867864Z",
     "iopub.status.idle": "2024-09-05T10:27:39.875156Z",
     "shell.execute_reply": "2024-09-05T10:27:39.873865Z"
    },
    "papermill": {
     "duration": 0.020966,
     "end_time": "2024-09-05T10:27:39.877558",
     "exception": false,
     "start_time": "2024-09-05T10:27:39.856592",
     "status": "completed"
    },
    "tags": []
   },
   "outputs": [
    {
     "data": {
      "text/plain": [
       "(8000, 11)"
      ]
     },
     "execution_count": 17,
     "metadata": {},
     "output_type": "execute_result"
    }
   ],
   "source": [
    "X_train.shape"
   ]
  },
  {
   "cell_type": "code",
   "execution_count": 18,
   "id": "01c3ceac",
   "metadata": {
    "execution": {
     "iopub.execute_input": "2024-09-05T10:27:39.900008Z",
     "iopub.status.busy": "2024-09-05T10:27:39.899604Z",
     "iopub.status.idle": "2024-09-05T10:27:39.906419Z",
     "shell.execute_reply": "2024-09-05T10:27:39.905346Z"
    },
    "papermill": {
     "duration": 0.020519,
     "end_time": "2024-09-05T10:27:39.908684",
     "exception": false,
     "start_time": "2024-09-05T10:27:39.888165",
     "status": "completed"
    },
    "tags": []
   },
   "outputs": [
    {
     "data": {
      "text/plain": [
       "(2000, 11)"
      ]
     },
     "execution_count": 18,
     "metadata": {},
     "output_type": "execute_result"
    }
   ],
   "source": [
    "X_test.shape"
   ]
  },
  {
   "cell_type": "code",
   "execution_count": 19,
   "id": "35703cde",
   "metadata": {
    "execution": {
     "iopub.execute_input": "2024-09-05T10:27:39.932322Z",
     "iopub.status.busy": "2024-09-05T10:27:39.931833Z",
     "iopub.status.idle": "2024-09-05T10:27:39.948114Z",
     "shell.execute_reply": "2024-09-05T10:27:39.946974Z"
    },
    "papermill": {
     "duration": 0.031018,
     "end_time": "2024-09-05T10:27:39.950741",
     "exception": false,
     "start_time": "2024-09-05T10:27:39.919723",
     "status": "completed"
    },
    "tags": []
   },
   "outputs": [],
   "source": [
    "from sklearn.preprocessing import StandardScaler\n",
    "scaler= StandardScaler()\n",
    "\n",
    "X_train_scaled = scaler.fit_transform(X_train)\n",
    "X_test_scaled = scaler.fit_transform(X_test)"
   ]
  },
  {
   "cell_type": "code",
   "execution_count": 20,
   "id": "953ff1c7",
   "metadata": {
    "execution": {
     "iopub.execute_input": "2024-09-05T10:27:39.973065Z",
     "iopub.status.busy": "2024-09-05T10:27:39.972635Z",
     "iopub.status.idle": "2024-09-05T10:27:39.981421Z",
     "shell.execute_reply": "2024-09-05T10:27:39.980357Z"
    },
    "papermill": {
     "duration": 0.02263,
     "end_time": "2024-09-05T10:27:39.983693",
     "exception": false,
     "start_time": "2024-09-05T10:27:39.961063",
     "status": "completed"
    },
    "tags": []
   },
   "outputs": [
    {
     "data": {
      "text/plain": [
       "array([[-0.23082038, -0.94449979, -0.70174202, ...,  1.71490137,\n",
       "        -0.57273139,  0.91509065],\n",
       "       [-0.25150912, -0.94449979, -0.35520275, ..., -0.58312392,\n",
       "        -0.57273139, -1.09278791],\n",
       "       [-0.3963303 ,  0.77498705,  0.33787579, ...,  1.71490137,\n",
       "        -0.57273139, -1.09278791],\n",
       "       ...,\n",
       "       [ 0.22433188,  0.58393295,  1.3774936 , ..., -0.58312392,\n",
       "        -0.57273139, -1.09278791],\n",
       "       [ 0.13123255,  0.01077067,  1.03095433, ..., -0.58312392,\n",
       "        -0.57273139, -1.09278791],\n",
       "       [ 1.1656695 ,  0.29735181,  0.33787579, ...,  1.71490137,\n",
       "        -0.57273139,  0.91509065]])"
      ]
     },
     "execution_count": 20,
     "metadata": {},
     "output_type": "execute_result"
    }
   ],
   "source": [
    "X_train_scaled"
   ]
  },
  {
   "cell_type": "code",
   "execution_count": 21,
   "id": "07a738d4",
   "metadata": {
    "execution": {
     "iopub.execute_input": "2024-09-05T10:27:40.006211Z",
     "iopub.status.busy": "2024-09-05T10:27:40.005746Z",
     "iopub.status.idle": "2024-09-05T10:27:40.014037Z",
     "shell.execute_reply": "2024-09-05T10:27:40.012777Z"
    },
    "papermill": {
     "duration": 0.022185,
     "end_time": "2024-09-05T10:27:40.016351",
     "exception": false,
     "start_time": "2024-09-05T10:27:39.994166",
     "status": "completed"
    },
    "tags": []
   },
   "outputs": [
    {
     "data": {
      "text/plain": [
       "array([[-1.05008411,  0.75175306, -1.01618321, ..., -0.56118125,\n",
       "        -0.57812007,  0.90179633],\n",
       "       [ 0.29631699, -0.47907689, -0.67334137, ..., -0.56118125,\n",
       "        -0.57812007,  0.90179633],\n",
       "       [-1.24686581,  0.27835693, -1.01618321, ..., -0.56118125,\n",
       "        -0.57812007, -1.10889783],\n",
       "       ...,\n",
       "       [-0.87401628, -0.47907689,  1.72655149, ..., -0.56118125,\n",
       "         1.72974448,  0.90179633],\n",
       "       [-0.31474197, -0.85779379, -1.01618321, ...,  1.78195548,\n",
       "        -0.57812007, -1.10889783],\n",
       "       [ 0.0373937 ,  1.22514919,  1.38370966, ...,  1.78195548,\n",
       "        -0.57812007,  0.90179633]])"
      ]
     },
     "execution_count": 21,
     "metadata": {},
     "output_type": "execute_result"
    }
   ],
   "source": [
    "X_test_scaled"
   ]
  },
  {
   "cell_type": "code",
   "execution_count": 22,
   "id": "0b13d743",
   "metadata": {
    "execution": {
     "iopub.execute_input": "2024-09-05T10:27:40.039957Z",
     "iopub.status.busy": "2024-09-05T10:27:40.039109Z",
     "iopub.status.idle": "2024-09-05T10:27:53.967967Z",
     "shell.execute_reply": "2024-09-05T10:27:53.966917Z"
    },
    "papermill": {
     "duration": 13.943155,
     "end_time": "2024-09-05T10:27:53.970580",
     "exception": false,
     "start_time": "2024-09-05T10:27:40.027425",
     "status": "completed"
    },
    "tags": []
   },
   "outputs": [],
   "source": [
    "import tensorflow\n",
    "from tensorflow import keras\n",
    "from tensorflow.keras import Sequential\n",
    "from tensorflow.keras.layers import Dense"
   ]
  },
  {
   "cell_type": "code",
   "execution_count": 23,
   "id": "021c76f1",
   "metadata": {
    "execution": {
     "iopub.execute_input": "2024-09-05T10:27:53.993876Z",
     "iopub.status.busy": "2024-09-05T10:27:53.993158Z",
     "iopub.status.idle": "2024-09-05T10:27:54.089866Z",
     "shell.execute_reply": "2024-09-05T10:27:54.088523Z"
    },
    "papermill": {
     "duration": 0.111363,
     "end_time": "2024-09-05T10:27:54.092739",
     "exception": false,
     "start_time": "2024-09-05T10:27:53.981376",
     "status": "completed"
    },
    "tags": []
   },
   "outputs": [
    {
     "name": "stderr",
     "output_type": "stream",
     "text": [
      "/opt/conda/lib/python3.10/site-packages/keras/src/layers/core/dense.py:87: UserWarning: Do not pass an `input_shape`/`input_dim` argument to a layer. When using Sequential models, prefer using an `Input(shape)` object as the first layer in the model instead.\n",
      "  super().__init__(activity_regularizer=activity_regularizer, **kwargs)\n"
     ]
    }
   ],
   "source": [
    "model= Sequential()\n",
    "\n",
    "model.add(Dense(11,activation='relu',input_dim=11))\n",
    "model.add(Dense(11,activation='relu'))\n",
    "model.add(Dense(1,activation='sigmoid'))"
   ]
  },
  {
   "cell_type": "code",
   "execution_count": 24,
   "id": "98fead31",
   "metadata": {
    "execution": {
     "iopub.execute_input": "2024-09-05T10:27:54.115805Z",
     "iopub.status.busy": "2024-09-05T10:27:54.115369Z",
     "iopub.status.idle": "2024-09-05T10:27:54.136730Z",
     "shell.execute_reply": "2024-09-05T10:27:54.135619Z"
    },
    "papermill": {
     "duration": 0.035365,
     "end_time": "2024-09-05T10:27:54.138959",
     "exception": false,
     "start_time": "2024-09-05T10:27:54.103594",
     "status": "completed"
    },
    "tags": []
   },
   "outputs": [
    {
     "data": {
      "text/html": [
       "<pre style=\"white-space:pre;overflow-x:auto;line-height:normal;font-family:Menlo,'DejaVu Sans Mono',consolas,'Courier New',monospace\"><span style=\"font-weight: bold\">Model: \"sequential\"</span>\n",
       "</pre>\n"
      ],
      "text/plain": [
       "\u001b[1mModel: \"sequential\"\u001b[0m\n"
      ]
     },
     "metadata": {},
     "output_type": "display_data"
    },
    {
     "data": {
      "text/html": [
       "<pre style=\"white-space:pre;overflow-x:auto;line-height:normal;font-family:Menlo,'DejaVu Sans Mono',consolas,'Courier New',monospace\">┏━━━━━━━━━━━━━━━━━━━━━━━━━━━━━━━━━┳━━━━━━━━━━━━━━━━━━━━━━━━┳━━━━━━━━━━━━━━━┓\n",
       "┃<span style=\"font-weight: bold\"> Layer (type)                    </span>┃<span style=\"font-weight: bold\"> Output Shape           </span>┃<span style=\"font-weight: bold\">       Param # </span>┃\n",
       "┡━━━━━━━━━━━━━━━━━━━━━━━━━━━━━━━━━╇━━━━━━━━━━━━━━━━━━━━━━━━╇━━━━━━━━━━━━━━━┩\n",
       "│ dense (<span style=\"color: #0087ff; text-decoration-color: #0087ff\">Dense</span>)                   │ (<span style=\"color: #00d7ff; text-decoration-color: #00d7ff\">None</span>, <span style=\"color: #00af00; text-decoration-color: #00af00\">11</span>)             │           <span style=\"color: #00af00; text-decoration-color: #00af00\">132</span> │\n",
       "├─────────────────────────────────┼────────────────────────┼───────────────┤\n",
       "│ dense_1 (<span style=\"color: #0087ff; text-decoration-color: #0087ff\">Dense</span>)                 │ (<span style=\"color: #00d7ff; text-decoration-color: #00d7ff\">None</span>, <span style=\"color: #00af00; text-decoration-color: #00af00\">11</span>)             │           <span style=\"color: #00af00; text-decoration-color: #00af00\">132</span> │\n",
       "├─────────────────────────────────┼────────────────────────┼───────────────┤\n",
       "│ dense_2 (<span style=\"color: #0087ff; text-decoration-color: #0087ff\">Dense</span>)                 │ (<span style=\"color: #00d7ff; text-decoration-color: #00d7ff\">None</span>, <span style=\"color: #00af00; text-decoration-color: #00af00\">1</span>)              │            <span style=\"color: #00af00; text-decoration-color: #00af00\">12</span> │\n",
       "└─────────────────────────────────┴────────────────────────┴───────────────┘\n",
       "</pre>\n"
      ],
      "text/plain": [
       "┏━━━━━━━━━━━━━━━━━━━━━━━━━━━━━━━━━┳━━━━━━━━━━━━━━━━━━━━━━━━┳━━━━━━━━━━━━━━━┓\n",
       "┃\u001b[1m \u001b[0m\u001b[1mLayer (type)                   \u001b[0m\u001b[1m \u001b[0m┃\u001b[1m \u001b[0m\u001b[1mOutput Shape          \u001b[0m\u001b[1m \u001b[0m┃\u001b[1m \u001b[0m\u001b[1m      Param #\u001b[0m\u001b[1m \u001b[0m┃\n",
       "┡━━━━━━━━━━━━━━━━━━━━━━━━━━━━━━━━━╇━━━━━━━━━━━━━━━━━━━━━━━━╇━━━━━━━━━━━━━━━┩\n",
       "│ dense (\u001b[38;5;33mDense\u001b[0m)                   │ (\u001b[38;5;45mNone\u001b[0m, \u001b[38;5;34m11\u001b[0m)             │           \u001b[38;5;34m132\u001b[0m │\n",
       "├─────────────────────────────────┼────────────────────────┼───────────────┤\n",
       "│ dense_1 (\u001b[38;5;33mDense\u001b[0m)                 │ (\u001b[38;5;45mNone\u001b[0m, \u001b[38;5;34m11\u001b[0m)             │           \u001b[38;5;34m132\u001b[0m │\n",
       "├─────────────────────────────────┼────────────────────────┼───────────────┤\n",
       "│ dense_2 (\u001b[38;5;33mDense\u001b[0m)                 │ (\u001b[38;5;45mNone\u001b[0m, \u001b[38;5;34m1\u001b[0m)              │            \u001b[38;5;34m12\u001b[0m │\n",
       "└─────────────────────────────────┴────────────────────────┴───────────────┘\n"
      ]
     },
     "metadata": {},
     "output_type": "display_data"
    },
    {
     "data": {
      "text/html": [
       "<pre style=\"white-space:pre;overflow-x:auto;line-height:normal;font-family:Menlo,'DejaVu Sans Mono',consolas,'Courier New',monospace\"><span style=\"font-weight: bold\"> Total params: </span><span style=\"color: #00af00; text-decoration-color: #00af00\">276</span> (1.08 KB)\n",
       "</pre>\n"
      ],
      "text/plain": [
       "\u001b[1m Total params: \u001b[0m\u001b[38;5;34m276\u001b[0m (1.08 KB)\n"
      ]
     },
     "metadata": {},
     "output_type": "display_data"
    },
    {
     "data": {
      "text/html": [
       "<pre style=\"white-space:pre;overflow-x:auto;line-height:normal;font-family:Menlo,'DejaVu Sans Mono',consolas,'Courier New',monospace\"><span style=\"font-weight: bold\"> Trainable params: </span><span style=\"color: #00af00; text-decoration-color: #00af00\">276</span> (1.08 KB)\n",
       "</pre>\n"
      ],
      "text/plain": [
       "\u001b[1m Trainable params: \u001b[0m\u001b[38;5;34m276\u001b[0m (1.08 KB)\n"
      ]
     },
     "metadata": {},
     "output_type": "display_data"
    },
    {
     "data": {
      "text/html": [
       "<pre style=\"white-space:pre;overflow-x:auto;line-height:normal;font-family:Menlo,'DejaVu Sans Mono',consolas,'Courier New',monospace\"><span style=\"font-weight: bold\"> Non-trainable params: </span><span style=\"color: #00af00; text-decoration-color: #00af00\">0</span> (0.00 B)\n",
       "</pre>\n"
      ],
      "text/plain": [
       "\u001b[1m Non-trainable params: \u001b[0m\u001b[38;5;34m0\u001b[0m (0.00 B)\n"
      ]
     },
     "metadata": {},
     "output_type": "display_data"
    }
   ],
   "source": [
    "model.summary()"
   ]
  },
  {
   "cell_type": "code",
   "execution_count": 25,
   "id": "a1fa3698",
   "metadata": {
    "execution": {
     "iopub.execute_input": "2024-09-05T10:27:54.163098Z",
     "iopub.status.busy": "2024-09-05T10:27:54.162681Z",
     "iopub.status.idle": "2024-09-05T10:27:54.178053Z",
     "shell.execute_reply": "2024-09-05T10:27:54.176958Z"
    },
    "papermill": {
     "duration": 0.03041,
     "end_time": "2024-09-05T10:27:54.180635",
     "exception": false,
     "start_time": "2024-09-05T10:27:54.150225",
     "status": "completed"
    },
    "tags": []
   },
   "outputs": [],
   "source": [
    "model.compile(loss='binary_crossentropy',optimizer='Adam',metrics=['accuracy'])"
   ]
  },
  {
   "cell_type": "code",
   "execution_count": 26,
   "id": "0a2ac078",
   "metadata": {
    "execution": {
     "iopub.execute_input": "2024-09-05T10:27:54.204985Z",
     "iopub.status.busy": "2024-09-05T10:27:54.204564Z",
     "iopub.status.idle": "2024-09-05T10:28:31.821260Z",
     "shell.execute_reply": "2024-09-05T10:28:31.820237Z"
    },
    "papermill": {
     "duration": 37.631789,
     "end_time": "2024-09-05T10:28:31.823815",
     "exception": false,
     "start_time": "2024-09-05T10:27:54.192026",
     "status": "completed"
    },
    "tags": []
   },
   "outputs": [
    {
     "name": "stdout",
     "output_type": "stream",
     "text": [
      "Epoch 1/100\n",
      "\u001b[1m200/200\u001b[0m \u001b[32m━━━━━━━━━━━━━━━━━━━━\u001b[0m\u001b[37m\u001b[0m \u001b[1m2s\u001b[0m 2ms/step - accuracy: 0.7844 - loss: 0.5781 - val_accuracy: 0.7956 - val_loss: 0.4819\n",
      "Epoch 2/100\n",
      "\u001b[1m200/200\u001b[0m \u001b[32m━━━━━━━━━━━━━━━━━━━━\u001b[0m\u001b[37m\u001b[0m \u001b[1m0s\u001b[0m 2ms/step - accuracy: 0.8106 - loss: 0.4580 - val_accuracy: 0.8031 - val_loss: 0.4441\n",
      "Epoch 3/100\n",
      "\u001b[1m200/200\u001b[0m \u001b[32m━━━━━━━━━━━━━━━━━━━━\u001b[0m\u001b[37m\u001b[0m \u001b[1m0s\u001b[0m 2ms/step - accuracy: 0.8285 - loss: 0.4229 - val_accuracy: 0.8087 - val_loss: 0.4277\n",
      "Epoch 4/100\n",
      "\u001b[1m200/200\u001b[0m \u001b[32m━━━━━━━━━━━━━━━━━━━━\u001b[0m\u001b[37m\u001b[0m \u001b[1m0s\u001b[0m 2ms/step - accuracy: 0.8252 - loss: 0.4084 - val_accuracy: 0.8175 - val_loss: 0.4141\n",
      "Epoch 5/100\n",
      "\u001b[1m200/200\u001b[0m \u001b[32m━━━━━━━━━━━━━━━━━━━━\u001b[0m\u001b[37m\u001b[0m \u001b[1m0s\u001b[0m 2ms/step - accuracy: 0.8296 - loss: 0.4056 - val_accuracy: 0.8219 - val_loss: 0.4000\n",
      "Epoch 6/100\n",
      "\u001b[1m200/200\u001b[0m \u001b[32m━━━━━━━━━━━━━━━━━━━━\u001b[0m\u001b[37m\u001b[0m \u001b[1m0s\u001b[0m 2ms/step - accuracy: 0.8365 - loss: 0.3911 - val_accuracy: 0.8338 - val_loss: 0.3875\n",
      "Epoch 7/100\n",
      "\u001b[1m200/200\u001b[0m \u001b[32m━━━━━━━━━━━━━━━━━━━━\u001b[0m\u001b[37m\u001b[0m \u001b[1m0s\u001b[0m 2ms/step - accuracy: 0.8437 - loss: 0.3937 - val_accuracy: 0.8419 - val_loss: 0.3755\n",
      "Epoch 8/100\n",
      "\u001b[1m200/200\u001b[0m \u001b[32m━━━━━━━━━━━━━━━━━━━━\u001b[0m\u001b[37m\u001b[0m \u001b[1m0s\u001b[0m 2ms/step - accuracy: 0.8356 - loss: 0.3840 - val_accuracy: 0.8450 - val_loss: 0.3672\n",
      "Epoch 9/100\n",
      "\u001b[1m200/200\u001b[0m \u001b[32m━━━━━━━━━━━━━━━━━━━━\u001b[0m\u001b[37m\u001b[0m \u001b[1m0s\u001b[0m 2ms/step - accuracy: 0.8495 - loss: 0.3629 - val_accuracy: 0.8494 - val_loss: 0.3623\n",
      "Epoch 10/100\n",
      "\u001b[1m200/200\u001b[0m \u001b[32m━━━━━━━━━━━━━━━━━━━━\u001b[0m\u001b[37m\u001b[0m \u001b[1m0s\u001b[0m 2ms/step - accuracy: 0.8543 - loss: 0.3621 - val_accuracy: 0.8519 - val_loss: 0.3581\n",
      "Epoch 11/100\n",
      "\u001b[1m200/200\u001b[0m \u001b[32m━━━━━━━━━━━━━━━━━━━━\u001b[0m\u001b[37m\u001b[0m \u001b[1m0s\u001b[0m 2ms/step - accuracy: 0.8579 - loss: 0.3459 - val_accuracy: 0.8494 - val_loss: 0.3557\n",
      "Epoch 12/100\n",
      "\u001b[1m200/200\u001b[0m \u001b[32m━━━━━━━━━━━━━━━━━━━━\u001b[0m\u001b[37m\u001b[0m \u001b[1m0s\u001b[0m 2ms/step - accuracy: 0.8626 - loss: 0.3445 - val_accuracy: 0.8500 - val_loss: 0.3518\n",
      "Epoch 13/100\n",
      "\u001b[1m200/200\u001b[0m \u001b[32m━━━━━━━━━━━━━━━━━━━━\u001b[0m\u001b[37m\u001b[0m \u001b[1m0s\u001b[0m 2ms/step - accuracy: 0.8526 - loss: 0.3498 - val_accuracy: 0.8506 - val_loss: 0.3507\n",
      "Epoch 14/100\n",
      "\u001b[1m200/200\u001b[0m \u001b[32m━━━━━━━━━━━━━━━━━━━━\u001b[0m\u001b[37m\u001b[0m \u001b[1m0s\u001b[0m 2ms/step - accuracy: 0.8535 - loss: 0.3574 - val_accuracy: 0.8512 - val_loss: 0.3503\n",
      "Epoch 15/100\n",
      "\u001b[1m200/200\u001b[0m \u001b[32m━━━━━━━━━━━━━━━━━━━━\u001b[0m\u001b[37m\u001b[0m \u001b[1m0s\u001b[0m 2ms/step - accuracy: 0.8576 - loss: 0.3388 - val_accuracy: 0.8500 - val_loss: 0.3483\n",
      "Epoch 16/100\n",
      "\u001b[1m200/200\u001b[0m \u001b[32m━━━━━━━━━━━━━━━━━━━━\u001b[0m\u001b[37m\u001b[0m \u001b[1m0s\u001b[0m 2ms/step - accuracy: 0.8618 - loss: 0.3409 - val_accuracy: 0.8537 - val_loss: 0.3468\n",
      "Epoch 17/100\n",
      "\u001b[1m200/200\u001b[0m \u001b[32m━━━━━━━━━━━━━━━━━━━━\u001b[0m\u001b[37m\u001b[0m \u001b[1m0s\u001b[0m 2ms/step - accuracy: 0.8489 - loss: 0.3505 - val_accuracy: 0.8519 - val_loss: 0.3482\n",
      "Epoch 18/100\n",
      "\u001b[1m200/200\u001b[0m \u001b[32m━━━━━━━━━━━━━━━━━━━━\u001b[0m\u001b[37m\u001b[0m \u001b[1m0s\u001b[0m 2ms/step - accuracy: 0.8561 - loss: 0.3498 - val_accuracy: 0.8562 - val_loss: 0.3444\n",
      "Epoch 19/100\n",
      "\u001b[1m200/200\u001b[0m \u001b[32m━━━━━━━━━━━━━━━━━━━━\u001b[0m\u001b[37m\u001b[0m \u001b[1m0s\u001b[0m 2ms/step - accuracy: 0.8568 - loss: 0.3470 - val_accuracy: 0.8469 - val_loss: 0.3507\n",
      "Epoch 20/100\n",
      "\u001b[1m200/200\u001b[0m \u001b[32m━━━━━━━━━━━━━━━━━━━━\u001b[0m\u001b[37m\u001b[0m \u001b[1m0s\u001b[0m 2ms/step - accuracy: 0.8592 - loss: 0.3452 - val_accuracy: 0.8487 - val_loss: 0.3461\n",
      "Epoch 21/100\n",
      "\u001b[1m200/200\u001b[0m \u001b[32m━━━━━━━━━━━━━━━━━━━━\u001b[0m\u001b[37m\u001b[0m \u001b[1m0s\u001b[0m 2ms/step - accuracy: 0.8604 - loss: 0.3296 - val_accuracy: 0.8525 - val_loss: 0.3448\n",
      "Epoch 22/100\n",
      "\u001b[1m200/200\u001b[0m \u001b[32m━━━━━━━━━━━━━━━━━━━━\u001b[0m\u001b[37m\u001b[0m \u001b[1m0s\u001b[0m 2ms/step - accuracy: 0.8562 - loss: 0.3415 - val_accuracy: 0.8506 - val_loss: 0.3484\n",
      "Epoch 23/100\n",
      "\u001b[1m200/200\u001b[0m \u001b[32m━━━━━━━━━━━━━━━━━━━━\u001b[0m\u001b[37m\u001b[0m \u001b[1m0s\u001b[0m 2ms/step - accuracy: 0.8614 - loss: 0.3312 - val_accuracy: 0.8556 - val_loss: 0.3446\n",
      "Epoch 24/100\n",
      "\u001b[1m200/200\u001b[0m \u001b[32m━━━━━━━━━━━━━━━━━━━━\u001b[0m\u001b[37m\u001b[0m \u001b[1m0s\u001b[0m 2ms/step - accuracy: 0.8577 - loss: 0.3365 - val_accuracy: 0.8525 - val_loss: 0.3452\n",
      "Epoch 25/100\n",
      "\u001b[1m200/200\u001b[0m \u001b[32m━━━━━━━━━━━━━━━━━━━━\u001b[0m\u001b[37m\u001b[0m \u001b[1m0s\u001b[0m 2ms/step - accuracy: 0.8664 - loss: 0.3276 - val_accuracy: 0.8519 - val_loss: 0.3464\n",
      "Epoch 26/100\n",
      "\u001b[1m200/200\u001b[0m \u001b[32m━━━━━━━━━━━━━━━━━━━━\u001b[0m\u001b[37m\u001b[0m \u001b[1m0s\u001b[0m 2ms/step - accuracy: 0.8666 - loss: 0.3306 - val_accuracy: 0.8519 - val_loss: 0.3460\n",
      "Epoch 27/100\n",
      "\u001b[1m200/200\u001b[0m \u001b[32m━━━━━━━━━━━━━━━━━━━━\u001b[0m\u001b[37m\u001b[0m \u001b[1m0s\u001b[0m 2ms/step - accuracy: 0.8619 - loss: 0.3272 - val_accuracy: 0.8481 - val_loss: 0.3476\n",
      "Epoch 28/100\n",
      "\u001b[1m200/200\u001b[0m \u001b[32m━━━━━━━━━━━━━━━━━━━━\u001b[0m\u001b[37m\u001b[0m \u001b[1m0s\u001b[0m 2ms/step - accuracy: 0.8579 - loss: 0.3388 - val_accuracy: 0.8537 - val_loss: 0.3446\n",
      "Epoch 29/100\n",
      "\u001b[1m200/200\u001b[0m \u001b[32m━━━━━━━━━━━━━━━━━━━━\u001b[0m\u001b[37m\u001b[0m \u001b[1m0s\u001b[0m 2ms/step - accuracy: 0.8729 - loss: 0.3216 - val_accuracy: 0.8519 - val_loss: 0.3450\n",
      "Epoch 30/100\n",
      "\u001b[1m200/200\u001b[0m \u001b[32m━━━━━━━━━━━━━━━━━━━━\u001b[0m\u001b[37m\u001b[0m \u001b[1m0s\u001b[0m 2ms/step - accuracy: 0.8564 - loss: 0.3363 - val_accuracy: 0.8500 - val_loss: 0.3476\n",
      "Epoch 31/100\n",
      "\u001b[1m200/200\u001b[0m \u001b[32m━━━━━━━━━━━━━━━━━━━━\u001b[0m\u001b[37m\u001b[0m \u001b[1m0s\u001b[0m 2ms/step - accuracy: 0.8659 - loss: 0.3259 - val_accuracy: 0.8500 - val_loss: 0.3456\n",
      "Epoch 32/100\n",
      "\u001b[1m200/200\u001b[0m \u001b[32m━━━━━━━━━━━━━━━━━━━━\u001b[0m\u001b[37m\u001b[0m \u001b[1m0s\u001b[0m 2ms/step - accuracy: 0.8586 - loss: 0.3389 - val_accuracy: 0.8525 - val_loss: 0.3464\n",
      "Epoch 33/100\n",
      "\u001b[1m200/200\u001b[0m \u001b[32m━━━━━━━━━━━━━━━━━━━━\u001b[0m\u001b[37m\u001b[0m \u001b[1m0s\u001b[0m 2ms/step - accuracy: 0.8616 - loss: 0.3345 - val_accuracy: 0.8544 - val_loss: 0.3457\n",
      "Epoch 34/100\n",
      "\u001b[1m200/200\u001b[0m \u001b[32m━━━━━━━━━━━━━━━━━━━━\u001b[0m\u001b[37m\u001b[0m \u001b[1m0s\u001b[0m 2ms/step - accuracy: 0.8596 - loss: 0.3370 - val_accuracy: 0.8544 - val_loss: 0.3465\n",
      "Epoch 35/100\n",
      "\u001b[1m200/200\u001b[0m \u001b[32m━━━━━━━━━━━━━━━━━━━━\u001b[0m\u001b[37m\u001b[0m \u001b[1m0s\u001b[0m 2ms/step - accuracy: 0.8619 - loss: 0.3321 - val_accuracy: 0.8519 - val_loss: 0.3451\n",
      "Epoch 36/100\n",
      "\u001b[1m200/200\u001b[0m \u001b[32m━━━━━━━━━━━━━━━━━━━━\u001b[0m\u001b[37m\u001b[0m \u001b[1m0s\u001b[0m 2ms/step - accuracy: 0.8658 - loss: 0.3254 - val_accuracy: 0.8500 - val_loss: 0.3472\n",
      "Epoch 37/100\n",
      "\u001b[1m200/200\u001b[0m \u001b[32m━━━━━━━━━━━━━━━━━━━━\u001b[0m\u001b[37m\u001b[0m \u001b[1m0s\u001b[0m 2ms/step - accuracy: 0.8595 - loss: 0.3308 - val_accuracy: 0.8519 - val_loss: 0.3453\n",
      "Epoch 38/100\n",
      "\u001b[1m200/200\u001b[0m \u001b[32m━━━━━━━━━━━━━━━━━━━━\u001b[0m\u001b[37m\u001b[0m \u001b[1m0s\u001b[0m 2ms/step - accuracy: 0.8617 - loss: 0.3275 - val_accuracy: 0.8525 - val_loss: 0.3466\n",
      "Epoch 39/100\n",
      "\u001b[1m200/200\u001b[0m \u001b[32m━━━━━━━━━━━━━━━━━━━━\u001b[0m\u001b[37m\u001b[0m \u001b[1m0s\u001b[0m 2ms/step - accuracy: 0.8652 - loss: 0.3315 - val_accuracy: 0.8500 - val_loss: 0.3483\n",
      "Epoch 40/100\n",
      "\u001b[1m200/200\u001b[0m \u001b[32m━━━━━━━━━━━━━━━━━━━━\u001b[0m\u001b[37m\u001b[0m \u001b[1m0s\u001b[0m 2ms/step - accuracy: 0.8642 - loss: 0.3219 - val_accuracy: 0.8500 - val_loss: 0.3481\n",
      "Epoch 41/100\n",
      "\u001b[1m200/200\u001b[0m \u001b[32m━━━━━━━━━━━━━━━━━━━━\u001b[0m\u001b[37m\u001b[0m \u001b[1m0s\u001b[0m 2ms/step - accuracy: 0.8603 - loss: 0.3345 - val_accuracy: 0.8519 - val_loss: 0.3464\n",
      "Epoch 42/100\n",
      "\u001b[1m200/200\u001b[0m \u001b[32m━━━━━━━━━━━━━━━━━━━━\u001b[0m\u001b[37m\u001b[0m \u001b[1m0s\u001b[0m 2ms/step - accuracy: 0.8679 - loss: 0.3272 - val_accuracy: 0.8506 - val_loss: 0.3463\n",
      "Epoch 43/100\n",
      "\u001b[1m200/200\u001b[0m \u001b[32m━━━━━━━━━━━━━━━━━━━━\u001b[0m\u001b[37m\u001b[0m \u001b[1m0s\u001b[0m 2ms/step - accuracy: 0.8555 - loss: 0.3381 - val_accuracy: 0.8519 - val_loss: 0.3460\n",
      "Epoch 44/100\n",
      "\u001b[1m200/200\u001b[0m \u001b[32m━━━━━━━━━━━━━━━━━━━━\u001b[0m\u001b[37m\u001b[0m \u001b[1m0s\u001b[0m 2ms/step - accuracy: 0.8621 - loss: 0.3313 - val_accuracy: 0.8531 - val_loss: 0.3468\n",
      "Epoch 45/100\n",
      "\u001b[1m200/200\u001b[0m \u001b[32m━━━━━━━━━━━━━━━━━━━━\u001b[0m\u001b[37m\u001b[0m \u001b[1m0s\u001b[0m 2ms/step - accuracy: 0.8645 - loss: 0.3260 - val_accuracy: 0.8525 - val_loss: 0.3472\n",
      "Epoch 46/100\n",
      "\u001b[1m200/200\u001b[0m \u001b[32m━━━━━━━━━━━━━━━━━━━━\u001b[0m\u001b[37m\u001b[0m \u001b[1m0s\u001b[0m 2ms/step - accuracy: 0.8728 - loss: 0.3208 - val_accuracy: 0.8519 - val_loss: 0.3467\n",
      "Epoch 47/100\n",
      "\u001b[1m200/200\u001b[0m \u001b[32m━━━━━━━━━━━━━━━━━━━━\u001b[0m\u001b[37m\u001b[0m \u001b[1m0s\u001b[0m 2ms/step - accuracy: 0.8694 - loss: 0.3223 - val_accuracy: 0.8525 - val_loss: 0.3470\n",
      "Epoch 48/100\n",
      "\u001b[1m200/200\u001b[0m \u001b[32m━━━━━━━━━━━━━━━━━━━━\u001b[0m\u001b[37m\u001b[0m \u001b[1m0s\u001b[0m 2ms/step - accuracy: 0.8568 - loss: 0.3344 - val_accuracy: 0.8512 - val_loss: 0.3474\n",
      "Epoch 49/100\n",
      "\u001b[1m200/200\u001b[0m \u001b[32m━━━━━━━━━━━━━━━━━━━━\u001b[0m\u001b[37m\u001b[0m \u001b[1m0s\u001b[0m 2ms/step - accuracy: 0.8653 - loss: 0.3294 - val_accuracy: 0.8500 - val_loss: 0.3485\n",
      "Epoch 50/100\n",
      "\u001b[1m200/200\u001b[0m \u001b[32m━━━━━━━━━━━━━━━━━━━━\u001b[0m\u001b[37m\u001b[0m \u001b[1m0s\u001b[0m 2ms/step - accuracy: 0.8574 - loss: 0.3380 - val_accuracy: 0.8506 - val_loss: 0.3471\n",
      "Epoch 51/100\n",
      "\u001b[1m200/200\u001b[0m \u001b[32m━━━━━━━━━━━━━━━━━━━━\u001b[0m\u001b[37m\u001b[0m \u001b[1m0s\u001b[0m 2ms/step - accuracy: 0.8754 - loss: 0.3170 - val_accuracy: 0.8519 - val_loss: 0.3479\n",
      "Epoch 52/100\n",
      "\u001b[1m200/200\u001b[0m \u001b[32m━━━━━━━━━━━━━━━━━━━━\u001b[0m\u001b[37m\u001b[0m \u001b[1m0s\u001b[0m 2ms/step - accuracy: 0.8625 - loss: 0.3278 - val_accuracy: 0.8506 - val_loss: 0.3482\n",
      "Epoch 53/100\n",
      "\u001b[1m200/200\u001b[0m \u001b[32m━━━━━━━━━━━━━━━━━━━━\u001b[0m\u001b[37m\u001b[0m \u001b[1m0s\u001b[0m 2ms/step - accuracy: 0.8619 - loss: 0.3313 - val_accuracy: 0.8494 - val_loss: 0.3496\n",
      "Epoch 54/100\n",
      "\u001b[1m200/200\u001b[0m \u001b[32m━━━━━━━━━━━━━━━━━━━━\u001b[0m\u001b[37m\u001b[0m \u001b[1m0s\u001b[0m 2ms/step - accuracy: 0.8694 - loss: 0.3157 - val_accuracy: 0.8525 - val_loss: 0.3480\n",
      "Epoch 55/100\n",
      "\u001b[1m200/200\u001b[0m \u001b[32m━━━━━━━━━━━━━━━━━━━━\u001b[0m\u001b[37m\u001b[0m \u001b[1m0s\u001b[0m 2ms/step - accuracy: 0.8607 - loss: 0.3259 - val_accuracy: 0.8494 - val_loss: 0.3515\n",
      "Epoch 56/100\n",
      "\u001b[1m200/200\u001b[0m \u001b[32m━━━━━━━━━━━━━━━━━━━━\u001b[0m\u001b[37m\u001b[0m \u001b[1m0s\u001b[0m 2ms/step - accuracy: 0.8587 - loss: 0.3342 - val_accuracy: 0.8494 - val_loss: 0.3506\n",
      "Epoch 57/100\n",
      "\u001b[1m200/200\u001b[0m \u001b[32m━━━━━━━━━━━━━━━━━━━━\u001b[0m\u001b[37m\u001b[0m \u001b[1m0s\u001b[0m 2ms/step - accuracy: 0.8630 - loss: 0.3283 - val_accuracy: 0.8525 - val_loss: 0.3474\n",
      "Epoch 58/100\n",
      "\u001b[1m200/200\u001b[0m \u001b[32m━━━━━━━━━━━━━━━━━━━━\u001b[0m\u001b[37m\u001b[0m \u001b[1m0s\u001b[0m 2ms/step - accuracy: 0.8645 - loss: 0.3235 - val_accuracy: 0.8550 - val_loss: 0.3485\n",
      "Epoch 59/100\n",
      "\u001b[1m200/200\u001b[0m \u001b[32m━━━━━━━━━━━━━━━━━━━━\u001b[0m\u001b[37m\u001b[0m \u001b[1m0s\u001b[0m 2ms/step - accuracy: 0.8628 - loss: 0.3318 - val_accuracy: 0.8519 - val_loss: 0.3478\n",
      "Epoch 60/100\n",
      "\u001b[1m200/200\u001b[0m \u001b[32m━━━━━━━━━━━━━━━━━━━━\u001b[0m\u001b[37m\u001b[0m \u001b[1m0s\u001b[0m 2ms/step - accuracy: 0.8614 - loss: 0.3265 - val_accuracy: 0.8544 - val_loss: 0.3468\n",
      "Epoch 61/100\n",
      "\u001b[1m200/200\u001b[0m \u001b[32m━━━━━━━━━━━━━━━━━━━━\u001b[0m\u001b[37m\u001b[0m \u001b[1m0s\u001b[0m 2ms/step - accuracy: 0.8621 - loss: 0.3299 - val_accuracy: 0.8556 - val_loss: 0.3474\n",
      "Epoch 62/100\n",
      "\u001b[1m200/200\u001b[0m \u001b[32m━━━━━━━━━━━━━━━━━━━━\u001b[0m\u001b[37m\u001b[0m \u001b[1m0s\u001b[0m 2ms/step - accuracy: 0.8604 - loss: 0.3276 - val_accuracy: 0.8506 - val_loss: 0.3480\n",
      "Epoch 63/100\n",
      "\u001b[1m200/200\u001b[0m \u001b[32m━━━━━━━━━━━━━━━━━━━━\u001b[0m\u001b[37m\u001b[0m \u001b[1m0s\u001b[0m 2ms/step - accuracy: 0.8622 - loss: 0.3263 - val_accuracy: 0.8525 - val_loss: 0.3473\n",
      "Epoch 64/100\n",
      "\u001b[1m200/200\u001b[0m \u001b[32m━━━━━━━━━━━━━━━━━━━━\u001b[0m\u001b[37m\u001b[0m \u001b[1m0s\u001b[0m 2ms/step - accuracy: 0.8677 - loss: 0.3258 - val_accuracy: 0.8525 - val_loss: 0.3473\n",
      "Epoch 65/100\n",
      "\u001b[1m200/200\u001b[0m \u001b[32m━━━━━━━━━━━━━━━━━━━━\u001b[0m\u001b[37m\u001b[0m \u001b[1m0s\u001b[0m 2ms/step - accuracy: 0.8676 - loss: 0.3237 - val_accuracy: 0.8544 - val_loss: 0.3482\n",
      "Epoch 66/100\n",
      "\u001b[1m200/200\u001b[0m \u001b[32m━━━━━━━━━━━━━━━━━━━━\u001b[0m\u001b[37m\u001b[0m \u001b[1m0s\u001b[0m 2ms/step - accuracy: 0.8688 - loss: 0.3207 - val_accuracy: 0.8506 - val_loss: 0.3483\n",
      "Epoch 67/100\n",
      "\u001b[1m200/200\u001b[0m \u001b[32m━━━━━━━━━━━━━━━━━━━━\u001b[0m\u001b[37m\u001b[0m \u001b[1m0s\u001b[0m 2ms/step - accuracy: 0.8602 - loss: 0.3414 - val_accuracy: 0.8531 - val_loss: 0.3476\n",
      "Epoch 68/100\n",
      "\u001b[1m200/200\u001b[0m \u001b[32m━━━━━━━━━━━━━━━━━━━━\u001b[0m\u001b[37m\u001b[0m \u001b[1m0s\u001b[0m 2ms/step - accuracy: 0.8701 - loss: 0.3200 - val_accuracy: 0.8519 - val_loss: 0.3480\n",
      "Epoch 69/100\n",
      "\u001b[1m200/200\u001b[0m \u001b[32m━━━━━━━━━━━━━━━━━━━━\u001b[0m\u001b[37m\u001b[0m \u001b[1m1s\u001b[0m 2ms/step - accuracy: 0.8681 - loss: 0.3172 - val_accuracy: 0.8512 - val_loss: 0.3489\n",
      "Epoch 70/100\n",
      "\u001b[1m200/200\u001b[0m \u001b[32m━━━━━━━━━━━━━━━━━━━━\u001b[0m\u001b[37m\u001b[0m \u001b[1m1s\u001b[0m 2ms/step - accuracy: 0.8707 - loss: 0.3200 - val_accuracy: 0.8506 - val_loss: 0.3480\n",
      "Epoch 71/100\n",
      "\u001b[1m200/200\u001b[0m \u001b[32m━━━━━━━━━━━━━━━━━━━━\u001b[0m\u001b[37m\u001b[0m \u001b[1m0s\u001b[0m 2ms/step - accuracy: 0.8612 - loss: 0.3282 - val_accuracy: 0.8519 - val_loss: 0.3499\n",
      "Epoch 72/100\n",
      "\u001b[1m200/200\u001b[0m \u001b[32m━━━━━━━━━━━━━━━━━━━━\u001b[0m\u001b[37m\u001b[0m \u001b[1m0s\u001b[0m 2ms/step - accuracy: 0.8699 - loss: 0.3210 - val_accuracy: 0.8531 - val_loss: 0.3484\n",
      "Epoch 73/100\n",
      "\u001b[1m200/200\u001b[0m \u001b[32m━━━━━━━━━━━━━━━━━━━━\u001b[0m\u001b[37m\u001b[0m \u001b[1m0s\u001b[0m 2ms/step - accuracy: 0.8648 - loss: 0.3314 - val_accuracy: 0.8531 - val_loss: 0.3474\n",
      "Epoch 74/100\n",
      "\u001b[1m200/200\u001b[0m \u001b[32m━━━━━━━━━━━━━━━━━━━━\u001b[0m\u001b[37m\u001b[0m \u001b[1m0s\u001b[0m 2ms/step - accuracy: 0.8630 - loss: 0.3268 - val_accuracy: 0.8519 - val_loss: 0.3473\n",
      "Epoch 75/100\n",
      "\u001b[1m200/200\u001b[0m \u001b[32m━━━━━━━━━━━━━━━━━━━━\u001b[0m\u001b[37m\u001b[0m \u001b[1m0s\u001b[0m 2ms/step - accuracy: 0.8659 - loss: 0.3214 - val_accuracy: 0.8506 - val_loss: 0.3480\n",
      "Epoch 76/100\n",
      "\u001b[1m200/200\u001b[0m \u001b[32m━━━━━━━━━━━━━━━━━━━━\u001b[0m\u001b[37m\u001b[0m \u001b[1m0s\u001b[0m 2ms/step - accuracy: 0.8717 - loss: 0.3128 - val_accuracy: 0.8525 - val_loss: 0.3490\n",
      "Epoch 77/100\n",
      "\u001b[1m200/200\u001b[0m \u001b[32m━━━━━━━━━━━━━━━━━━━━\u001b[0m\u001b[37m\u001b[0m \u001b[1m0s\u001b[0m 2ms/step - accuracy: 0.8649 - loss: 0.3223 - val_accuracy: 0.8519 - val_loss: 0.3472\n",
      "Epoch 78/100\n",
      "\u001b[1m200/200\u001b[0m \u001b[32m━━━━━━━━━━━━━━━━━━━━\u001b[0m\u001b[37m\u001b[0m \u001b[1m0s\u001b[0m 2ms/step - accuracy: 0.8736 - loss: 0.3126 - val_accuracy: 0.8556 - val_loss: 0.3466\n",
      "Epoch 79/100\n",
      "\u001b[1m200/200\u001b[0m \u001b[32m━━━━━━━━━━━━━━━━━━━━\u001b[0m\u001b[37m\u001b[0m \u001b[1m0s\u001b[0m 2ms/step - accuracy: 0.8716 - loss: 0.3146 - val_accuracy: 0.8550 - val_loss: 0.3474\n",
      "Epoch 80/100\n",
      "\u001b[1m200/200\u001b[0m \u001b[32m━━━━━━━━━━━━━━━━━━━━\u001b[0m\u001b[37m\u001b[0m \u001b[1m0s\u001b[0m 2ms/step - accuracy: 0.8623 - loss: 0.3289 - val_accuracy: 0.8525 - val_loss: 0.3490\n",
      "Epoch 81/100\n",
      "\u001b[1m200/200\u001b[0m \u001b[32m━━━━━━━━━━━━━━━━━━━━\u001b[0m\u001b[37m\u001b[0m \u001b[1m0s\u001b[0m 2ms/step - accuracy: 0.8692 - loss: 0.3179 - val_accuracy: 0.8519 - val_loss: 0.3508\n",
      "Epoch 82/100\n",
      "\u001b[1m200/200\u001b[0m \u001b[32m━━━━━━━━━━━━━━━━━━━━\u001b[0m\u001b[37m\u001b[0m \u001b[1m0s\u001b[0m 2ms/step - accuracy: 0.8638 - loss: 0.3346 - val_accuracy: 0.8537 - val_loss: 0.3513\n",
      "Epoch 83/100\n",
      "\u001b[1m200/200\u001b[0m \u001b[32m━━━━━━━━━━━━━━━━━━━━\u001b[0m\u001b[37m\u001b[0m \u001b[1m0s\u001b[0m 2ms/step - accuracy: 0.8635 - loss: 0.3274 - val_accuracy: 0.8512 - val_loss: 0.3493\n",
      "Epoch 84/100\n",
      "\u001b[1m200/200\u001b[0m \u001b[32m━━━━━━━━━━━━━━━━━━━━\u001b[0m\u001b[37m\u001b[0m \u001b[1m0s\u001b[0m 2ms/step - accuracy: 0.8716 - loss: 0.3188 - val_accuracy: 0.8519 - val_loss: 0.3482\n",
      "Epoch 85/100\n",
      "\u001b[1m200/200\u001b[0m \u001b[32m━━━━━━━━━━━━━━━━━━━━\u001b[0m\u001b[37m\u001b[0m \u001b[1m0s\u001b[0m 2ms/step - accuracy: 0.8690 - loss: 0.3205 - val_accuracy: 0.8525 - val_loss: 0.3460\n",
      "Epoch 86/100\n",
      "\u001b[1m200/200\u001b[0m \u001b[32m━━━━━━━━━━━━━━━━━━━━\u001b[0m\u001b[37m\u001b[0m \u001b[1m0s\u001b[0m 2ms/step - accuracy: 0.8706 - loss: 0.3181 - val_accuracy: 0.8500 - val_loss: 0.3495\n",
      "Epoch 87/100\n",
      "\u001b[1m200/200\u001b[0m \u001b[32m━━━━━━━━━━━━━━━━━━━━\u001b[0m\u001b[37m\u001b[0m \u001b[1m0s\u001b[0m 2ms/step - accuracy: 0.8733 - loss: 0.3156 - val_accuracy: 0.8525 - val_loss: 0.3472\n",
      "Epoch 88/100\n",
      "\u001b[1m200/200\u001b[0m \u001b[32m━━━━━━━━━━━━━━━━━━━━\u001b[0m\u001b[37m\u001b[0m \u001b[1m0s\u001b[0m 2ms/step - accuracy: 0.8750 - loss: 0.3105 - val_accuracy: 0.8544 - val_loss: 0.3467\n",
      "Epoch 89/100\n",
      "\u001b[1m200/200\u001b[0m \u001b[32m━━━━━━━━━━━━━━━━━━━━\u001b[0m\u001b[37m\u001b[0m \u001b[1m0s\u001b[0m 2ms/step - accuracy: 0.8638 - loss: 0.3247 - val_accuracy: 0.8525 - val_loss: 0.3460\n",
      "Epoch 90/100\n",
      "\u001b[1m200/200\u001b[0m \u001b[32m━━━━━━━━━━━━━━━━━━━━\u001b[0m\u001b[37m\u001b[0m \u001b[1m0s\u001b[0m 2ms/step - accuracy: 0.8673 - loss: 0.3149 - val_accuracy: 0.8512 - val_loss: 0.3478\n",
      "Epoch 91/100\n",
      "\u001b[1m200/200\u001b[0m \u001b[32m━━━━━━━━━━━━━━━━━━━━\u001b[0m\u001b[37m\u001b[0m \u001b[1m0s\u001b[0m 2ms/step - accuracy: 0.8608 - loss: 0.3273 - val_accuracy: 0.8531 - val_loss: 0.3465\n",
      "Epoch 92/100\n",
      "\u001b[1m200/200\u001b[0m \u001b[32m━━━━━━━━━━━━━━━━━━━━\u001b[0m\u001b[37m\u001b[0m \u001b[1m0s\u001b[0m 2ms/step - accuracy: 0.8723 - loss: 0.3157 - val_accuracy: 0.8519 - val_loss: 0.3470\n",
      "Epoch 93/100\n",
      "\u001b[1m200/200\u001b[0m \u001b[32m━━━━━━━━━━━━━━━━━━━━\u001b[0m\u001b[37m\u001b[0m \u001b[1m0s\u001b[0m 2ms/step - accuracy: 0.8653 - loss: 0.3196 - val_accuracy: 0.8519 - val_loss: 0.3463\n",
      "Epoch 94/100\n",
      "\u001b[1m200/200\u001b[0m \u001b[32m━━━━━━━━━━━━━━━━━━━━\u001b[0m\u001b[37m\u001b[0m \u001b[1m0s\u001b[0m 2ms/step - accuracy: 0.8701 - loss: 0.3215 - val_accuracy: 0.8519 - val_loss: 0.3481\n",
      "Epoch 95/100\n",
      "\u001b[1m200/200\u001b[0m \u001b[32m━━━━━━━━━━━━━━━━━━━━\u001b[0m\u001b[37m\u001b[0m \u001b[1m0s\u001b[0m 2ms/step - accuracy: 0.8670 - loss: 0.3177 - val_accuracy: 0.8519 - val_loss: 0.3471\n",
      "Epoch 96/100\n",
      "\u001b[1m200/200\u001b[0m \u001b[32m━━━━━━━━━━━━━━━━━━━━\u001b[0m\u001b[37m\u001b[0m \u001b[1m0s\u001b[0m 2ms/step - accuracy: 0.8705 - loss: 0.3173 - val_accuracy: 0.8531 - val_loss: 0.3472\n",
      "Epoch 97/100\n",
      "\u001b[1m200/200\u001b[0m \u001b[32m━━━━━━━━━━━━━━━━━━━━\u001b[0m\u001b[37m\u001b[0m \u001b[1m0s\u001b[0m 2ms/step - accuracy: 0.8659 - loss: 0.3231 - val_accuracy: 0.8531 - val_loss: 0.3481\n",
      "Epoch 98/100\n",
      "\u001b[1m200/200\u001b[0m \u001b[32m━━━━━━━━━━━━━━━━━━━━\u001b[0m\u001b[37m\u001b[0m \u001b[1m0s\u001b[0m 2ms/step - accuracy: 0.8684 - loss: 0.3188 - val_accuracy: 0.8531 - val_loss: 0.3475\n",
      "Epoch 99/100\n",
      "\u001b[1m200/200\u001b[0m \u001b[32m━━━━━━━━━━━━━━━━━━━━\u001b[0m\u001b[37m\u001b[0m \u001b[1m0s\u001b[0m 2ms/step - accuracy: 0.8636 - loss: 0.3283 - val_accuracy: 0.8537 - val_loss: 0.3482\n",
      "Epoch 100/100\n",
      "\u001b[1m200/200\u001b[0m \u001b[32m━━━━━━━━━━━━━━━━━━━━\u001b[0m\u001b[37m\u001b[0m \u001b[1m0s\u001b[0m 2ms/step - accuracy: 0.8672 - loss: 0.3243 - val_accuracy: 0.8519 - val_loss: 0.3469\n"
     ]
    }
   ],
   "source": [
    "history = model.fit(X_train_scaled,y_train,epochs=100,validation_split=0.2)"
   ]
  },
  {
   "cell_type": "code",
   "execution_count": 27,
   "id": "7db02efb",
   "metadata": {
    "execution": {
     "iopub.execute_input": "2024-09-05T10:28:31.945930Z",
     "iopub.status.busy": "2024-09-05T10:28:31.945245Z",
     "iopub.status.idle": "2024-09-05T10:28:31.958856Z",
     "shell.execute_reply": "2024-09-05T10:28:31.957733Z"
    },
    "papermill": {
     "duration": 0.077305,
     "end_time": "2024-09-05T10:28:31.961356",
     "exception": false,
     "start_time": "2024-09-05T10:28:31.884051",
     "status": "completed"
    },
    "tags": []
   },
   "outputs": [
    {
     "data": {
      "text/plain": [
       "[array([[-1.15252741e-01, -1.11508667e-01, -1.38405114e-02,\n",
       "         -4.01976317e-01,  1.28597215e-01, -1.77807242e-01,\n",
       "          4.98841822e-01, -8.81334767e-02, -5.68408251e-01,\n",
       "         -3.96514833e-01,  1.74612179e-01],\n",
       "        [-2.04646096e-01, -4.73862253e-02, -1.24505192e-01,\n",
       "         -3.21715146e-01,  5.73582649e-01, -6.46939993e-01,\n",
       "         -4.80850786e-01,  4.63874787e-01,  9.32454050e-01,\n",
       "          5.92725754e-01, -5.40760994e-01],\n",
       "        [ 4.41570908e-01, -9.17231664e-02,  3.14793915e-01,\n",
       "          2.29523867e-01,  1.53447568e-01, -2.29277126e-02,\n",
       "         -2.99246848e-01,  1.37504146e-01,  4.67571318e-01,\n",
       "         -2.80229658e-01,  1.39893502e-01],\n",
       "        [-1.29244477e-01,  1.55996615e-02, -8.64636838e-01,\n",
       "          3.37827802e-01,  4.86983806e-02,  4.79726762e-01,\n",
       "          1.14898942e-01,  2.57522374e-01, -2.88299590e-01,\n",
       "         -2.78269742e-02, -3.06456596e-01],\n",
       "        [ 2.39016488e-01,  8.45563650e-01, -8.11754704e-01,\n",
       "         -6.66007698e-02, -7.29677379e-01, -4.14146185e-01,\n",
       "          4.51295555e-01,  1.15009797e+00,  4.18283679e-02,\n",
       "         -8.44320059e-01,  1.40704662e-01],\n",
       "        [ 6.82632029e-01, -1.94160581e-01, -2.96993166e-01,\n",
       "          1.34006351e-01, -3.23953591e-02, -2.58268714e-01,\n",
       "         -1.45314947e-01, -7.01533332e-02, -6.93321154e-02,\n",
       "         -2.04117239e-01, -1.52418911e-01],\n",
       "        [ 1.02709480e-01, -6.19801104e-01, -4.31038231e-01,\n",
       "          7.83706188e-01, -1.77604660e-01, -8.13118756e-01,\n",
       "          5.67165375e-01, -9.71198082e-02,  7.35595047e-01,\n",
       "         -4.96657580e-01, -5.87252304e-02],\n",
       "        [ 1.16167612e-01, -2.77791232e-01, -8.93681422e-02,\n",
       "         -2.05625445e-01, -2.87409108e-02, -5.00435755e-02,\n",
       "          1.96200907e-01, -7.38127753e-02, -3.21674317e-01,\n",
       "         -2.24687513e-02, -1.55375516e-02],\n",
       "        [-6.65577114e-01, -3.40662271e-01, -2.61782318e-01,\n",
       "          3.90567988e-01,  2.93110818e-01,  1.55797690e-01,\n",
       "         -1.95560995e-02, -2.36381844e-01, -4.29159366e-02,\n",
       "          4.77340333e-02, -2.28716999e-01],\n",
       "        [-2.94428617e-01,  1.62247986e-01, -7.41384551e-02,\n",
       "         -6.89669311e-01, -3.28274161e-01, -5.44704258e-01,\n",
       "          2.06894904e-01, -4.53676330e-04, -8.08274448e-02,\n",
       "          2.05301329e-01, -2.60783255e-01],\n",
       "        [ 5.28224409e-02,  6.91650957e-02,  1.38141140e-01,\n",
       "         -2.68655688e-01, -1.80396214e-01, -9.70387384e-02,\n",
       "          1.16564929e-01, -5.37907854e-02,  8.90540183e-02,\n",
       "          1.28345132e-01,  4.40090179e-01]], dtype=float32),\n",
       " array([ 0.26364753,  0.29622006,  0.18658935,  0.42432505,  0.04082024,\n",
       "         0.60392344,  0.05484532, -0.4536765 ,  0.02584105,  0.10893855,\n",
       "         0.5556511 ], dtype=float32)]"
      ]
     },
     "execution_count": 27,
     "metadata": {},
     "output_type": "execute_result"
    }
   ],
   "source": [
    "model.layers[0].get_weights()"
   ]
  },
  {
   "cell_type": "code",
   "execution_count": 28,
   "id": "55994861",
   "metadata": {
    "execution": {
     "iopub.execute_input": "2024-09-05T10:28:32.080756Z",
     "iopub.status.busy": "2024-09-05T10:28:32.080338Z",
     "iopub.status.idle": "2024-09-05T10:28:32.089460Z",
     "shell.execute_reply": "2024-09-05T10:28:32.088442Z"
    },
    "papermill": {
     "duration": 0.070823,
     "end_time": "2024-09-05T10:28:32.091598",
     "exception": false,
     "start_time": "2024-09-05T10:28:32.020775",
     "status": "completed"
    },
    "tags": []
   },
   "outputs": [
    {
     "data": {
      "text/plain": [
       "[array([[ 0.66977   ,  0.25198683, -0.45686203,  0.26515168, -0.45643023,\n",
       "          0.2705397 ,  0.07674941, -0.04642345, -0.18882923, -0.20130767,\n",
       "         -0.05270596],\n",
       "        [ 0.42213783, -0.28837064, -0.5060992 , -0.46438137,  0.5991965 ,\n",
       "          0.3812113 ,  0.19948411, -0.9068909 , -0.48492092,  0.5073219 ,\n",
       "          0.32411548],\n",
       "        [-0.33925506,  0.11529627,  0.27256536, -0.17204699, -0.7538236 ,\n",
       "          0.0849256 ,  0.19458525, -0.31727824, -1.0114017 , -0.14821087,\n",
       "          0.06601129],\n",
       "        [ 0.09854454,  0.3077209 ,  0.0198373 ,  0.20666973, -0.30270407,\n",
       "          0.22328039,  0.24614295,  0.06694093, -0.7016746 , -0.00936386,\n",
       "          0.12638204],\n",
       "        [-0.21900748,  0.4123998 ,  0.53653944,  0.34977776, -0.28951865,\n",
       "         -0.52070105, -0.39437577, -0.10997454,  0.44999865, -0.01490063,\n",
       "         -0.22951855],\n",
       "        [-0.17338291, -0.34123144,  0.23264247,  0.23918672,  0.3976408 ,\n",
       "          0.5434614 ,  0.5828789 , -0.32913437, -0.8371644 , -0.00681251,\n",
       "          0.42891052],\n",
       "        [ 0.31371436,  0.21876748, -0.59279394,  0.12950811,  0.42450306,\n",
       "          0.00535292,  0.09647782,  0.57252777,  0.54579115, -0.18629682,\n",
       "          0.4065239 ],\n",
       "        [-0.36561725,  0.88822603, -0.7110224 ,  0.05091358,  1.1502084 ,\n",
       "         -0.4524231 , -0.99804187, -0.22432718, -0.12130752, -0.38434666,\n",
       "         -0.428018  ],\n",
       "        [ 0.6243523 ,  0.11242896,  0.09499224,  0.5041997 , -0.4752129 ,\n",
       "         -0.36032814, -1.8221716 ,  0.61818326,  0.70885473,  0.37124437,\n",
       "         -0.17627575],\n",
       "        [-0.05013584,  0.3166319 ,  0.3682955 , -0.43656462, -0.06864829,\n",
       "         -0.00212524, -0.9469283 , -0.05272217,  0.02024715, -0.12720089,\n",
       "         -0.23888522],\n",
       "        [ 0.10513009,  0.13706388,  0.2244386 ,  0.01309382,  0.312736  ,\n",
       "          0.29384747,  0.28283355, -0.20746832,  0.52233934,  0.31969762,\n",
       "          0.6159861 ]], dtype=float32),\n",
       " array([ 0.35280862, -0.17799672,  0.06625357,  0.307255  , -0.17754647,\n",
       "         0.8518698 , -0.27598324,  0.0819062 , -0.153724  ,  0.4128691 ,\n",
       "         0.5828056 ], dtype=float32)]"
      ]
     },
     "execution_count": 28,
     "metadata": {},
     "output_type": "execute_result"
    }
   ],
   "source": [
    "model.layers[1].get_weights()"
   ]
  },
  {
   "cell_type": "code",
   "execution_count": 29,
   "id": "4647e379",
   "metadata": {
    "execution": {
     "iopub.execute_input": "2024-09-05T10:28:32.211557Z",
     "iopub.status.busy": "2024-09-05T10:28:32.210744Z",
     "iopub.status.idle": "2024-09-05T10:28:32.220747Z",
     "shell.execute_reply": "2024-09-05T10:28:32.219730Z"
    },
    "papermill": {
     "duration": 0.071985,
     "end_time": "2024-09-05T10:28:32.222850",
     "exception": false,
     "start_time": "2024-09-05T10:28:32.150865",
     "status": "completed"
    },
    "tags": []
   },
   "outputs": [
    {
     "data": {
      "text/plain": [
       "[array([[-0.34586975],\n",
       "        [ 0.9697631 ],\n",
       "        [ 0.9170174 ],\n",
       "        [-0.32063058],\n",
       "        [ 0.9081585 ],\n",
       "        [-0.6038131 ],\n",
       "        [ 1.062876  ],\n",
       "        [-0.50759405],\n",
       "        [-1.4257901 ],\n",
       "        [-0.57269734],\n",
       "        [-1.0145624 ]], dtype=float32),\n",
       " array([-0.18071088], dtype=float32)]"
      ]
     },
     "execution_count": 29,
     "metadata": {},
     "output_type": "execute_result"
    }
   ],
   "source": [
    "model.layers[2].get_weights()"
   ]
  },
  {
   "cell_type": "code",
   "execution_count": 30,
   "id": "f32315d9",
   "metadata": {
    "execution": {
     "iopub.execute_input": "2024-09-05T10:28:32.397305Z",
     "iopub.status.busy": "2024-09-05T10:28:32.396854Z",
     "iopub.status.idle": "2024-09-05T10:28:32.650655Z",
     "shell.execute_reply": "2024-09-05T10:28:32.649645Z"
    },
    "papermill": {
     "duration": 0.371251,
     "end_time": "2024-09-05T10:28:32.653138",
     "exception": false,
     "start_time": "2024-09-05T10:28:32.281887",
     "status": "completed"
    },
    "tags": []
   },
   "outputs": [
    {
     "name": "stdout",
     "output_type": "stream",
     "text": [
      "\u001b[1m63/63\u001b[0m \u001b[32m━━━━━━━━━━━━━━━━━━━━\u001b[0m\u001b[37m\u001b[0m \u001b[1m0s\u001b[0m 2ms/step\n"
     ]
    }
   ],
   "source": [
    "y_log = model.predict(X_test_scaled)"
   ]
  },
  {
   "cell_type": "code",
   "execution_count": 31,
   "id": "2a5533ba",
   "metadata": {
    "execution": {
     "iopub.execute_input": "2024-09-05T10:28:32.775807Z",
     "iopub.status.busy": "2024-09-05T10:28:32.774768Z",
     "iopub.status.idle": "2024-09-05T10:28:32.780221Z",
     "shell.execute_reply": "2024-09-05T10:28:32.779185Z"
    },
    "papermill": {
     "duration": 0.069476,
     "end_time": "2024-09-05T10:28:32.782207",
     "exception": false,
     "start_time": "2024-09-05T10:28:32.712731",
     "status": "completed"
    },
    "tags": []
   },
   "outputs": [],
   "source": [
    "y_pred= np.where(y_log>0.5,1,0)"
   ]
  },
  {
   "cell_type": "code",
   "execution_count": 32,
   "id": "7ebcf768",
   "metadata": {
    "execution": {
     "iopub.execute_input": "2024-09-05T10:28:32.904410Z",
     "iopub.status.busy": "2024-09-05T10:28:32.903291Z",
     "iopub.status.idle": "2024-09-05T10:28:32.914148Z",
     "shell.execute_reply": "2024-09-05T10:28:32.913082Z"
    },
    "papermill": {
     "duration": 0.074694,
     "end_time": "2024-09-05T10:28:32.916439",
     "exception": false,
     "start_time": "2024-09-05T10:28:32.841745",
     "status": "completed"
    },
    "tags": []
   },
   "outputs": [
    {
     "data": {
      "text/plain": [
       "0.862"
      ]
     },
     "execution_count": 32,
     "metadata": {},
     "output_type": "execute_result"
    }
   ],
   "source": [
    "from sklearn.metrics import accuracy_score\n",
    "accuracy_score(y_test,y_pred)"
   ]
  },
  {
   "cell_type": "code",
   "execution_count": 33,
   "id": "9805f47b",
   "metadata": {
    "execution": {
     "iopub.execute_input": "2024-09-05T10:28:33.038411Z",
     "iopub.status.busy": "2024-09-05T10:28:33.037364Z",
     "iopub.status.idle": "2024-09-05T10:28:33.043115Z",
     "shell.execute_reply": "2024-09-05T10:28:33.041870Z"
    },
    "papermill": {
     "duration": 0.069316,
     "end_time": "2024-09-05T10:28:33.045580",
     "exception": false,
     "start_time": "2024-09-05T10:28:32.976264",
     "status": "completed"
    },
    "tags": []
   },
   "outputs": [],
   "source": [
    "import matplotlib.pyplot as plt"
   ]
  },
  {
   "cell_type": "code",
   "execution_count": 34,
   "id": "7f2ccb42",
   "metadata": {
    "execution": {
     "iopub.execute_input": "2024-09-05T10:28:33.167905Z",
     "iopub.status.busy": "2024-09-05T10:28:33.167466Z",
     "iopub.status.idle": "2024-09-05T10:28:33.424340Z",
     "shell.execute_reply": "2024-09-05T10:28:33.423248Z"
    },
    "papermill": {
     "duration": 0.320606,
     "end_time": "2024-09-05T10:28:33.426576",
     "exception": false,
     "start_time": "2024-09-05T10:28:33.105970",
     "status": "completed"
    },
    "tags": []
   },
   "outputs": [
    {
     "data": {
      "text/plain": [
       "[<matplotlib.lines.Line2D at 0x7e43ce178c10>]"
      ]
     },
     "execution_count": 34,
     "metadata": {},
     "output_type": "execute_result"
    },
    {
     "data": {
      "image/png": "[encoded data removed]",
      "text/plain": [
       "<Figure size 640x480 with 1 Axes>"
      ]
     },
     "metadata": {},
     "output_type": "display_data"
    }
   ],
   "source": [
    "plt.plot(history.history['loss'])\n",
    "plt.plot(history.history['val_loss'])"
   ]
  },
  {
   "cell_type": "code",
   "execution_count": 35,
   "id": "4fc9c30a",
   "metadata": {
    "execution": {
     "iopub.execute_input": "2024-09-05T10:28:33.551505Z",
     "iopub.status.busy": "2024-09-05T10:28:33.551020Z",
     "iopub.status.idle": "2024-09-05T10:28:33.807396Z",
     "shell.execute_reply": "2024-09-05T10:28:33.806256Z"
    },
    "papermill": {
     "duration": 0.322267,
     "end_time": "2024-09-05T10:28:33.809812",
     "exception": false,
     "start_time": "2024-09-05T10:28:33.487545",
     "status": "completed"
    },
    "tags": []
   },
   "outputs": [
    {
     "data": {
      "text/plain": [
       "[<matplotlib.lines.Line2D at 0x7e43ac215c30>]"
      ]
     },
     "execution_count": 35,
     "metadata": {},
     "output_type": "execute_result"
    },
    {
     "data": {
      "image/png": "[encoded data removed]",
      "text/plain": [
       "<Figure size 640x480 with 1 Axes>"
      ]
     },
     "metadata": {},
     "output_type": "display_data"
    }
   ],
   "source": [
    "plt.plot(history.history['accuracy'])\n",
    "plt.plot(history.history['val_accuracy'])"
   ]
  },
  {
   "cell_type": "code",
   "execution_count": null,
   "id": "fd35f617",
   "metadata": {
    "papermill": {
     "duration": 0.064693,
     "end_time": "2024-09-05T10:28:33.936806",
     "exception": false,
     "start_time": "2024-09-05T10:28:33.872113",
     "status": "completed"
    },
    "tags": []
   },
   "outputs": [],
   "source": []
  }
 ],
 "metadata": {
  "kaggle": {
   "accelerator": "none",
   "dataSources": [
    {
     "datasetId": 869651,
     "sourceId": 1481789,
     "sourceType": "datasetVersion"
    }
   ],
   "dockerImageVersionId": 30761,
   "isGpuEnabled": false,
   "isInternetEnabled": false,
   "language": "python",
   "sourceType": "notebook"
  },
  "kernelspec": {
   "display_name": "Python 3",
   "language": "python",
   "name": "python3"
  },
  "language_info": {
   "codemirror_mode": {
    "name": "ipython",
    "version": 3
   },
   "file_extension": ".py",
   "mimetype": "text/x-python",
   "name": "python",
   "nbconvert_exporter": "python",
   "pygments_lexer": "ipython3",
   "version": "3.10.14"
  },
  "papermill": {
   "default_parameters": {},
   "duration": 61.569813,
   "end_time": "2024-09-05T10:28:36.382422",
   "environment_variables": {},
   "exception": null,
   "input_path": "__notebook__.ipynb",
   "output_path": "__notebook__.ipynb",
   "parameters": {},
   "start_time": "2024-09-05T10:27:34.812609",
   "version": "2.6.0"
  }
 },
 "nbformat": 4,
 "nbformat_minor": 5
}
